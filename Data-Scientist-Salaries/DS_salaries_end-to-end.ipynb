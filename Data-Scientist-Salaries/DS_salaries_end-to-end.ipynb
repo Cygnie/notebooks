{
 "cells": [
  {
   "cell_type": "markdown",
   "id": "1fc74fa9",
   "metadata": {},
   "source": [
    "# İmport Library"
   ]
  },
  {
   "cell_type": "code",
   "execution_count": 1,
   "id": "cf870da6",
   "metadata": {},
   "outputs": [],
   "source": [
    "import pandas as pd\n",
    "import numpy as np\n",
    "import matplotlib.pyplot as plt\n",
    "%matplotlib inline\n",
    "import seaborn as sns"
   ]
  },
  {
   "cell_type": "markdown",
   "id": "ffb10c33",
   "metadata": {},
   "source": [
    "# Read Dataset"
   ]
  },
  {
   "cell_type": "code",
   "execution_count": 2,
   "id": "d734e825",
   "metadata": {},
   "outputs": [
    {
     "data": {
      "text/html": [
       "<div>\n",
       "<style scoped>\n",
       "    .dataframe tbody tr th:only-of-type {\n",
       "        vertical-align: middle;\n",
       "    }\n",
       "\n",
       "    .dataframe tbody tr th {\n",
       "        vertical-align: top;\n",
       "    }\n",
       "\n",
       "    .dataframe thead th {\n",
       "        text-align: right;\n",
       "    }\n",
       "</style>\n",
       "<table border=\"1\" class=\"dataframe\">\n",
       "  <thead>\n",
       "    <tr style=\"text-align: right;\">\n",
       "      <th></th>\n",
       "      <th>Unnamed: 0</th>\n",
       "      <th>work_year</th>\n",
       "      <th>experience_level</th>\n",
       "      <th>employment_type</th>\n",
       "      <th>job_title</th>\n",
       "      <th>salary</th>\n",
       "      <th>salary_currency</th>\n",
       "      <th>salary_in_usd</th>\n",
       "      <th>employee_residence</th>\n",
       "      <th>remote_ratio</th>\n",
       "      <th>company_location</th>\n",
       "      <th>company_size</th>\n",
       "    </tr>\n",
       "  </thead>\n",
       "  <tbody>\n",
       "    <tr>\n",
       "      <th>0</th>\n",
       "      <td>0</td>\n",
       "      <td>2020</td>\n",
       "      <td>MI</td>\n",
       "      <td>FT</td>\n",
       "      <td>Data Scientist</td>\n",
       "      <td>70000</td>\n",
       "      <td>EUR</td>\n",
       "      <td>79833</td>\n",
       "      <td>DE</td>\n",
       "      <td>0</td>\n",
       "      <td>DE</td>\n",
       "      <td>L</td>\n",
       "    </tr>\n",
       "    <tr>\n",
       "      <th>1</th>\n",
       "      <td>1</td>\n",
       "      <td>2020</td>\n",
       "      <td>SE</td>\n",
       "      <td>FT</td>\n",
       "      <td>Machine Learning Scientist</td>\n",
       "      <td>260000</td>\n",
       "      <td>USD</td>\n",
       "      <td>260000</td>\n",
       "      <td>JP</td>\n",
       "      <td>0</td>\n",
       "      <td>JP</td>\n",
       "      <td>S</td>\n",
       "    </tr>\n",
       "    <tr>\n",
       "      <th>2</th>\n",
       "      <td>2</td>\n",
       "      <td>2020</td>\n",
       "      <td>SE</td>\n",
       "      <td>FT</td>\n",
       "      <td>Big Data Engineer</td>\n",
       "      <td>85000</td>\n",
       "      <td>GBP</td>\n",
       "      <td>109024</td>\n",
       "      <td>GB</td>\n",
       "      <td>50</td>\n",
       "      <td>GB</td>\n",
       "      <td>M</td>\n",
       "    </tr>\n",
       "    <tr>\n",
       "      <th>3</th>\n",
       "      <td>3</td>\n",
       "      <td>2020</td>\n",
       "      <td>MI</td>\n",
       "      <td>FT</td>\n",
       "      <td>Product Data Analyst</td>\n",
       "      <td>20000</td>\n",
       "      <td>USD</td>\n",
       "      <td>20000</td>\n",
       "      <td>HN</td>\n",
       "      <td>0</td>\n",
       "      <td>HN</td>\n",
       "      <td>S</td>\n",
       "    </tr>\n",
       "    <tr>\n",
       "      <th>4</th>\n",
       "      <td>4</td>\n",
       "      <td>2020</td>\n",
       "      <td>SE</td>\n",
       "      <td>FT</td>\n",
       "      <td>Machine Learning Engineer</td>\n",
       "      <td>150000</td>\n",
       "      <td>USD</td>\n",
       "      <td>150000</td>\n",
       "      <td>US</td>\n",
       "      <td>50</td>\n",
       "      <td>US</td>\n",
       "      <td>L</td>\n",
       "    </tr>\n",
       "  </tbody>\n",
       "</table>\n",
       "</div>"
      ],
      "text/plain": [
       "   Unnamed: 0  work_year experience_level employment_type  \\\n",
       "0           0       2020               MI              FT   \n",
       "1           1       2020               SE              FT   \n",
       "2           2       2020               SE              FT   \n",
       "3           3       2020               MI              FT   \n",
       "4           4       2020               SE              FT   \n",
       "\n",
       "                    job_title  salary salary_currency  salary_in_usd  \\\n",
       "0              Data Scientist   70000             EUR          79833   \n",
       "1  Machine Learning Scientist  260000             USD         260000   \n",
       "2           Big Data Engineer   85000             GBP         109024   \n",
       "3        Product Data Analyst   20000             USD          20000   \n",
       "4   Machine Learning Engineer  150000             USD         150000   \n",
       "\n",
       "  employee_residence  remote_ratio company_location company_size  \n",
       "0                 DE             0               DE            L  \n",
       "1                 JP             0               JP            S  \n",
       "2                 GB            50               GB            M  \n",
       "3                 HN             0               HN            S  \n",
       "4                 US            50               US            L  "
      ]
     },
     "execution_count": 2,
     "metadata": {},
     "output_type": "execute_result"
    }
   ],
   "source": [
    "df = pd.read_csv(\"ds_salaries.csv\")\n",
    "df.head()"
   ]
  },
  {
   "cell_type": "markdown",
   "id": "fad12640",
   "metadata": {},
   "source": [
    "* work_year             The year the salary was paid.\n",
    "    \n",
    "* experience_level:      The experience level in the job during the year with the following possible values: EN Entry-level / Junior MI Mid-level / Intermediate SE Senior-level / Expert EX Executive-level / Director\n",
    "  \n",
    "* employment_type:       The type of employement for the role: PT Part-time FT Full-time CT Contract FL Freelance\n",
    "\n",
    "* job_title:             The role worked in during the year.\n",
    "\n",
    "* salary:                The total gross salary amount paid.\n",
    "    \n",
    "* salary_currency:       The currency of the salary paid as an ISO 4217 currency code.\n",
    "            \n",
    "* salary_in_usd:         The salary in USD (FX rate divided by avg. USD rate for the respective year via fxdata.foorilla.com).\n",
    "       \n",
    "* employee_residence:    Employee's primary country of residence in during the work year as an ISO 3166 country code.\n",
    "        \n",
    "* remote_ratio:          The overall amount of work done remotely, possible values are as follows: 0 No remote work (less than 20%) 50 Partially remote 100 Fully remote (more than 80%)\n",
    "          \n",
    "* company_location:      The country of the employer's main office or contracting branch as an ISO 3166 country code.\n",
    "        \n",
    "* company_size:          The average number of people that worked for the company during the year: S less than 50 employees (small) M 50 to 250 employees (medium) L more than 250 employees (large)\n"
   ]
  },
  {
   "cell_type": "markdown",
   "id": "0979bec7",
   "metadata": {},
   "source": [
    "# EDA"
   ]
  },
  {
   "cell_type": "code",
   "execution_count": 3,
   "id": "1d2bc7a0",
   "metadata": {},
   "outputs": [
    {
     "data": {
      "text/plain": [
       "Index(['Unnamed: 0', 'work_year', 'experience_level', 'employment_type',\n",
       "       'job_title', 'salary', 'salary_currency', 'salary_in_usd',\n",
       "       'employee_residence', 'remote_ratio', 'company_location',\n",
       "       'company_size'],\n",
       "      dtype='object')"
      ]
     },
     "execution_count": 3,
     "metadata": {},
     "output_type": "execute_result"
    }
   ],
   "source": [
    "df.columns"
   ]
  },
  {
   "cell_type": "code",
   "execution_count": 4,
   "id": "4c14e9fb",
   "metadata": {},
   "outputs": [],
   "source": [
    "df.drop([\"Unnamed: 0\"],axis = 1,inplace = True)"
   ]
  },
  {
   "cell_type": "code",
   "execution_count": 5,
   "id": "b090d9ba",
   "metadata": {},
   "outputs": [
    {
     "name": "stdout",
     "output_type": "stream",
     "text": [
      "<class 'pandas.core.frame.DataFrame'>\n",
      "RangeIndex: 607 entries, 0 to 606\n",
      "Data columns (total 11 columns):\n",
      " #   Column              Non-Null Count  Dtype \n",
      "---  ------              --------------  ----- \n",
      " 0   work_year           607 non-null    int64 \n",
      " 1   experience_level    607 non-null    object\n",
      " 2   employment_type     607 non-null    object\n",
      " 3   job_title           607 non-null    object\n",
      " 4   salary              607 non-null    int64 \n",
      " 5   salary_currency     607 non-null    object\n",
      " 6   salary_in_usd       607 non-null    int64 \n",
      " 7   employee_residence  607 non-null    object\n",
      " 8   remote_ratio        607 non-null    int64 \n",
      " 9   company_location    607 non-null    object\n",
      " 10  company_size        607 non-null    object\n",
      "dtypes: int64(4), object(7)\n",
      "memory usage: 52.3+ KB\n"
     ]
    }
   ],
   "source": [
    "df.info()"
   ]
  },
  {
   "cell_type": "code",
   "execution_count": 6,
   "id": "a1951a4f",
   "metadata": {},
   "outputs": [
    {
     "data": {
      "text/html": [
       "<div>\n",
       "<style scoped>\n",
       "    .dataframe tbody tr th:only-of-type {\n",
       "        vertical-align: middle;\n",
       "    }\n",
       "\n",
       "    .dataframe tbody tr th {\n",
       "        vertical-align: top;\n",
       "    }\n",
       "\n",
       "    .dataframe thead th {\n",
       "        text-align: right;\n",
       "    }\n",
       "</style>\n",
       "<table border=\"1\" class=\"dataframe\">\n",
       "  <thead>\n",
       "    <tr style=\"text-align: right;\">\n",
       "      <th></th>\n",
       "      <th>work_year</th>\n",
       "      <th>salary</th>\n",
       "      <th>salary_in_usd</th>\n",
       "      <th>remote_ratio</th>\n",
       "    </tr>\n",
       "  </thead>\n",
       "  <tbody>\n",
       "    <tr>\n",
       "      <th>count</th>\n",
       "      <td>607.000000</td>\n",
       "      <td>6.070000e+02</td>\n",
       "      <td>607.000000</td>\n",
       "      <td>607.00000</td>\n",
       "    </tr>\n",
       "    <tr>\n",
       "      <th>mean</th>\n",
       "      <td>2021.405272</td>\n",
       "      <td>3.240001e+05</td>\n",
       "      <td>112297.869852</td>\n",
       "      <td>70.92257</td>\n",
       "    </tr>\n",
       "    <tr>\n",
       "      <th>std</th>\n",
       "      <td>0.692133</td>\n",
       "      <td>1.544357e+06</td>\n",
       "      <td>70957.259411</td>\n",
       "      <td>40.70913</td>\n",
       "    </tr>\n",
       "    <tr>\n",
       "      <th>min</th>\n",
       "      <td>2020.000000</td>\n",
       "      <td>4.000000e+03</td>\n",
       "      <td>2859.000000</td>\n",
       "      <td>0.00000</td>\n",
       "    </tr>\n",
       "    <tr>\n",
       "      <th>25%</th>\n",
       "      <td>2021.000000</td>\n",
       "      <td>7.000000e+04</td>\n",
       "      <td>62726.000000</td>\n",
       "      <td>50.00000</td>\n",
       "    </tr>\n",
       "    <tr>\n",
       "      <th>50%</th>\n",
       "      <td>2022.000000</td>\n",
       "      <td>1.150000e+05</td>\n",
       "      <td>101570.000000</td>\n",
       "      <td>100.00000</td>\n",
       "    </tr>\n",
       "    <tr>\n",
       "      <th>75%</th>\n",
       "      <td>2022.000000</td>\n",
       "      <td>1.650000e+05</td>\n",
       "      <td>150000.000000</td>\n",
       "      <td>100.00000</td>\n",
       "    </tr>\n",
       "    <tr>\n",
       "      <th>max</th>\n",
       "      <td>2022.000000</td>\n",
       "      <td>3.040000e+07</td>\n",
       "      <td>600000.000000</td>\n",
       "      <td>100.00000</td>\n",
       "    </tr>\n",
       "  </tbody>\n",
       "</table>\n",
       "</div>"
      ],
      "text/plain": [
       "         work_year        salary  salary_in_usd  remote_ratio\n",
       "count   607.000000  6.070000e+02     607.000000     607.00000\n",
       "mean   2021.405272  3.240001e+05  112297.869852      70.92257\n",
       "std       0.692133  1.544357e+06   70957.259411      40.70913\n",
       "min    2020.000000  4.000000e+03    2859.000000       0.00000\n",
       "25%    2021.000000  7.000000e+04   62726.000000      50.00000\n",
       "50%    2022.000000  1.150000e+05  101570.000000     100.00000\n",
       "75%    2022.000000  1.650000e+05  150000.000000     100.00000\n",
       "max    2022.000000  3.040000e+07  600000.000000     100.00000"
      ]
     },
     "execution_count": 6,
     "metadata": {},
     "output_type": "execute_result"
    }
   ],
   "source": [
    "df.describe()"
   ]
  },
  {
   "cell_type": "code",
   "execution_count": 7,
   "id": "b8ef8f50",
   "metadata": {},
   "outputs": [
    {
     "name": "stdout",
     "output_type": "stream",
     "text": [
      "Model Target salary_in_usd\n",
      "Model Features Index(['work_year', 'experience_level', 'employment_type', 'job_title',\n",
      "       'salary', 'salary_currency', 'employee_residence', 'remote_ratio',\n",
      "       'company_location', 'company_size'],\n",
      "      dtype='object')\n"
     ]
    }
   ],
   "source": [
    "model_target = \"salary_in_usd\"\n",
    "model_features = df.columns.drop(\"salary_in_usd\")\n",
    "\n",
    "print(f\"Model Target {model_target}\")\n",
    "print(f\"Model Features {model_features}\")"
   ]
  },
  {
   "cell_type": "code",
   "execution_count": 8,
   "id": "691741db",
   "metadata": {},
   "outputs": [
    {
     "name": "stdout",
     "output_type": "stream",
     "text": [
      "Numerical columns: Index(['work_year', 'salary', 'remote_ratio'], dtype='object')\n",
      "\n",
      "Categorical columns: Index(['experience_level', 'employment_type', 'job_title', 'salary_currency',\n",
      "       'employee_residence', 'company_location', 'company_size'],\n",
      "      dtype='object')\n"
     ]
    }
   ],
   "source": [
    "numerical_features = df[model_features].select_dtypes(include=np.number).columns\n",
    "print('Numerical columns:',numerical_features)\n",
    "\n",
    "print('')\n",
    "\n",
    "categorical_features = df[model_features].select_dtypes(include='object').columns\n",
    "print('Categorical columns:',categorical_features)"
   ]
  },
  {
   "cell_type": "code",
   "execution_count": 9,
   "id": "f038fb3d",
   "metadata": {},
   "outputs": [
    {
     "data": {
      "text/plain": [
       "work_year             0\n",
       "experience_level      0\n",
       "employment_type       0\n",
       "job_title             0\n",
       "salary                0\n",
       "salary_currency       0\n",
       "salary_in_usd         0\n",
       "employee_residence    0\n",
       "remote_ratio          0\n",
       "company_location      0\n",
       "company_size          0\n",
       "dtype: int64"
      ]
     },
     "execution_count": 9,
     "metadata": {},
     "output_type": "execute_result"
    }
   ],
   "source": [
    "df.isnull().sum()"
   ]
  },
  {
   "cell_type": "markdown",
   "id": "b0204490",
   "metadata": {},
   "source": [
    "# Basic Plots"
   ]
  },
  {
   "cell_type": "code",
   "execution_count": 10,
   "id": "c670c885",
   "metadata": {},
   "outputs": [
    {
     "data": {
      "text/plain": [
       "<AxesSubplot:ylabel='Frequency'>"
      ]
     },
     "execution_count": 10,
     "metadata": {},
     "output_type": "execute_result"
    },
    {
     "data": {
      "image/png": "[encoded data removed]",
      "text/plain": [
       "<Figure size 432x288 with 1 Axes>"
      ]
     },
     "metadata": {
      "needs_background": "light"
     },
     "output_type": "display_data"
    }
   ],
   "source": [
    "df[\"salary_in_usd\"].plot.hist()"
   ]
  },
  {
   "cell_type": "markdown",
   "id": "168102cd",
   "metadata": {},
   "source": [
    "## Categorical Features"
   ]
  },
  {
   "cell_type": "code",
   "execution_count": 11,
   "id": "a9a5d595",
   "metadata": {},
   "outputs": [
    {
     "name": "stdout",
     "output_type": "stream",
     "text": [
      "SE    280\n",
      "MI    213\n",
      "EN     88\n",
      "EX     26\n",
      "Name: experience_level, dtype: int64\n",
      "FT    588\n",
      "PT     10\n",
      "CT      5\n",
      "FL      4\n",
      "Name: employment_type, dtype: int64\n",
      "Data Scientist                              143\n",
      "Data Engineer                               132\n",
      "Data Analyst                                 97\n",
      "Machine Learning Engineer                    41\n",
      "Research Scientist                           16\n",
      "Data Science Manager                         12\n",
      "Data Architect                               11\n",
      "Big Data Engineer                             8\n",
      "Machine Learning Scientist                    8\n",
      "Principal Data Scientist                      7\n",
      "AI Scientist                                  7\n",
      "Data Science Consultant                       7\n",
      "Director of Data Science                      7\n",
      "Data Analytics Manager                        7\n",
      "ML Engineer                                   6\n",
      "Computer Vision Engineer                      6\n",
      "BI Data Analyst                               6\n",
      "Lead Data Engineer                            6\n",
      "Data Engineering Manager                      5\n",
      "Business Data Analyst                         5\n",
      "Head of Data                                  5\n",
      "Applied Data Scientist                        5\n",
      "Applied Machine Learning Scientist            4\n",
      "Head of Data Science                          4\n",
      "Analytics Engineer                            4\n",
      "Data Analytics Engineer                       4\n",
      "Machine Learning Developer                    3\n",
      "Machine Learning Infrastructure Engineer      3\n",
      "Lead Data Scientist                           3\n",
      "Computer Vision Software Engineer             3\n",
      "Lead Data Analyst                             3\n",
      "Data Science Engineer                         3\n",
      "Principal Data Engineer                       3\n",
      "Principal Data Analyst                        2\n",
      "ETL Developer                                 2\n",
      "Product Data Analyst                          2\n",
      "Director of Data Engineering                  2\n",
      "Financial Data Analyst                        2\n",
      "Cloud Data Engineer                           2\n",
      "Lead Machine Learning Engineer                1\n",
      "NLP Engineer                                  1\n",
      "Head of Machine Learning                      1\n",
      "3D Computer Vision Researcher                 1\n",
      "Data Specialist                               1\n",
      "Staff Data Scientist                          1\n",
      "Big Data Architect                            1\n",
      "Finance Data Analyst                          1\n",
      "Marketing Data Analyst                        1\n",
      "Machine Learning Manager                      1\n",
      "Data Analytics Lead                           1\n",
      "Name: job_title, dtype: int64\n",
      "USD    398\n",
      "EUR     95\n",
      "GBP     44\n",
      "INR     27\n",
      "CAD     18\n",
      "JPY      3\n",
      "PLN      3\n",
      "TRY      3\n",
      "CNY      2\n",
      "MXN      2\n",
      "HUF      2\n",
      "DKK      2\n",
      "SGD      2\n",
      "BRL      2\n",
      "AUD      2\n",
      "CLP      1\n",
      "CHF      1\n",
      "Name: salary_currency, dtype: int64\n",
      "US    332\n",
      "GB     44\n",
      "IN     30\n",
      "CA     29\n",
      "DE     25\n",
      "FR     18\n",
      "ES     15\n",
      "GR     13\n",
      "JP      7\n",
      "PT      6\n",
      "BR      6\n",
      "PK      6\n",
      "NL      5\n",
      "PL      4\n",
      "IT      4\n",
      "RU      4\n",
      "AE      3\n",
      "AT      3\n",
      "VN      3\n",
      "TR      3\n",
      "AU      3\n",
      "RO      2\n",
      "BE      2\n",
      "SG      2\n",
      "SI      2\n",
      "DK      2\n",
      "HU      2\n",
      "NG      2\n",
      "MX      2\n",
      "BO      1\n",
      "MY      1\n",
      "TN      1\n",
      "IE      1\n",
      "DZ      1\n",
      "AR      1\n",
      "CZ      1\n",
      "JE      1\n",
      "LU      1\n",
      "PR      1\n",
      "RS      1\n",
      "EE      1\n",
      "CL      1\n",
      "HK      1\n",
      "KE      1\n",
      "MD      1\n",
      "CO      1\n",
      "IR      1\n",
      "CN      1\n",
      "MT      1\n",
      "UA      1\n",
      "IQ      1\n",
      "HN      1\n",
      "BG      1\n",
      "HR      1\n",
      "PH      1\n",
      "NZ      1\n",
      "CH      1\n",
      "Name: employee_residence, dtype: int64\n",
      "US    355\n",
      "GB     47\n",
      "CA     30\n",
      "DE     28\n",
      "IN     24\n",
      "FR     15\n",
      "ES     14\n",
      "GR     11\n",
      "JP      6\n",
      "NL      4\n",
      "AT      4\n",
      "PT      4\n",
      "PL      4\n",
      "LU      3\n",
      "PK      3\n",
      "BR      3\n",
      "AE      3\n",
      "MX      3\n",
      "AU      3\n",
      "TR      3\n",
      "DK      3\n",
      "IT      2\n",
      "CZ      2\n",
      "SI      2\n",
      "RU      2\n",
      "CH      2\n",
      "NG      2\n",
      "CN      2\n",
      "BE      2\n",
      "VN      1\n",
      "EE      1\n",
      "AS      1\n",
      "DZ      1\n",
      "MY      1\n",
      "MD      1\n",
      "KE      1\n",
      "SG      1\n",
      "CO      1\n",
      "IR      1\n",
      "CL      1\n",
      "MT      1\n",
      "IL      1\n",
      "UA      1\n",
      "IQ      1\n",
      "RO      1\n",
      "HR      1\n",
      "NZ      1\n",
      "HU      1\n",
      "HN      1\n",
      "IE      1\n",
      "Name: company_location, dtype: int64\n",
      "M    326\n",
      "L    198\n",
      "S     83\n",
      "Name: company_size, dtype: int64\n"
     ]
    }
   ],
   "source": [
    "for c in categorical_features:\n",
    "    print(df[c].value_counts())"
   ]
  },
  {
   "cell_type": "code",
   "execution_count": 12,
   "id": "309e1709",
   "metadata": {},
   "outputs": [
    {
     "data": {
      "image/png": "[encoded data removed]",
      "text/plain": [
       "<Figure size 1440x1440 with 1 Axes>"
      ]
     },
     "metadata": {
      "needs_background": "light"
     },
     "output_type": "display_data"
    },
    {
     "data": {
      "image/png": "[encoded data removed]",
      "text/plain": [
       "<Figure size 1440x1440 with 1 Axes>"
      ]
     },
     "metadata": {
      "needs_background": "light"
     },
     "output_type": "display_data"
    },
    {
     "data": {
      "image/png": "[encoded data removed]",
      "text/plain": [
       "<Figure size 1440x1440 with 1 Axes>"
      ]
     },
     "metadata": {
      "needs_background": "light"
     },
     "output_type": "display_data"
    },
    {
     "data": {
      "image/png": "[encoded data removed]",
      "text/plain": [
       "<Figure size 1440x1440 with 1 Axes>"
      ]
     },
     "metadata": {
      "needs_background": "light"
     },
     "output_type": "display_data"
    },
    {
     "data": {
      "image/png": "[encoded data removed]",
      "text/plain": [
       "<Figure size 1440x1440 with 1 Axes>"
      ]
     },
     "metadata": {
      "needs_background": "light"
     },
     "output_type": "display_data"
    },
    {
     "data": {
      "image/png": "[encoded data removed]",
      "text/plain": [
       "<Figure size 1440x1440 with 1 Axes>"
      ]
     },
     "metadata": {
      "needs_background": "light"
     },
     "output_type": "display_data"
    },
    {
     "data": {
      "image/png": "[encoded data removed]",
      "text/plain": [
       "<Figure size 1440x1440 with 1 Axes>"
      ]
     },
     "metadata": {
      "needs_background": "light"
     },
     "output_type": "display_data"
    }
   ],
   "source": [
    "for c in categorical_features:\n",
    "    plt.figure(figsize = (20,20))\n",
    "    sns.countplot(data = df, x = c)\n",
    "    plt.show()"
   ]
  },
  {
   "cell_type": "markdown",
   "id": "1a8f0a25",
   "metadata": {},
   "source": [
    "## Numerical Features"
   ]
  },
  {
   "cell_type": "code",
   "execution_count": 13,
   "id": "49c16771",
   "metadata": {},
   "outputs": [
    {
     "name": "stdout",
     "output_type": "stream",
     "text": [
      "(2021.8, 2022.0]      318\n",
      "(2020.8, 2021.0]      217\n",
      "(2019.997, 2020.2]     72\n",
      "(2020.2, 2020.4]        0\n",
      "(2020.4, 2020.6]        0\n",
      "(2020.6, 2020.8]        0\n",
      "(2021.0, 2021.2]        0\n",
      "(2021.2, 2021.4]        0\n",
      "(2021.4, 2021.6]        0\n",
      "(2021.6, 2021.8]        0\n",
      "Name: work_year, dtype: int64\n",
      "(-26396.001, 3043600.0]     597\n",
      "(3043600.0, 6083200.0]        4\n",
      "(6083200.0, 9122800.0]        3\n",
      "(9122800.0, 12162400.0]       2\n",
      "(27360400.0, 30400000.0]      1\n",
      "(12162400.0, 15202000.0]      0\n",
      "(15202000.0, 18241600.0]      0\n",
      "(18241600.0, 21281200.0]      0\n",
      "(21281200.0, 24320800.0]      0\n",
      "(24320800.0, 27360400.0]      0\n",
      "Name: salary, dtype: int64\n",
      "(90.0, 100.0]     381\n",
      "(-0.101, 10.0]    127\n",
      "(40.0, 50.0]       99\n",
      "(10.0, 20.0]        0\n",
      "(20.0, 30.0]        0\n",
      "(30.0, 40.0]        0\n",
      "(50.0, 60.0]        0\n",
      "(60.0, 70.0]        0\n",
      "(70.0, 80.0]        0\n",
      "(80.0, 90.0]        0\n",
      "Name: remote_ratio, dtype: int64\n"
     ]
    }
   ],
   "source": [
    "for c in numerical_features:\n",
    "    print(df[c].value_counts(bins = 10))"
   ]
  },
  {
   "cell_type": "code",
   "execution_count": 14,
   "id": "6fd45100",
   "metadata": {},
   "outputs": [
    {
     "name": "stdout",
     "output_type": "stream",
     "text": [
      "work_year\n"
     ]
    },
    {
     "data": {
      "image/png": "[encoded data removed]",
      "text/plain": [
       "<Figure size 720x720 with 1 Axes>"
      ]
     },
     "metadata": {
      "needs_background": "light"
     },
     "output_type": "display_data"
    },
    {
     "name": "stdout",
     "output_type": "stream",
     "text": [
      "salary\n"
     ]
    },
    {
     "data": {
      "image/png": "[encoded data removed]",
      "text/plain": [
       "<Figure size 720x720 with 1 Axes>"
      ]
     },
     "metadata": {
      "needs_background": "light"
     },
     "output_type": "display_data"
    },
    {
     "name": "stdout",
     "output_type": "stream",
     "text": [
      "remote_ratio\n"
     ]
    },
    {
     "data": {
      "image/png": "[encoded data removed]",
      "text/plain": [
       "<Figure size 720x720 with 1 Axes>"
      ]
     },
     "metadata": {
      "needs_background": "light"
     },
     "output_type": "display_data"
    }
   ],
   "source": [
    "for c in numerical_features:\n",
    "    plt.figure(figsize = (10,10))\n",
    "    print(c)\n",
    "    df[c].plot.hist(bins = 5)\n",
    "    plt.show()"
   ]
  },
  {
   "cell_type": "markdown",
   "id": "50f43700",
   "metadata": {},
   "source": [
    "# Feature Engineering"
   ]
  },
  {
   "cell_type": "markdown",
   "id": "476aad31",
   "metadata": {},
   "source": [
    "## year"
   ]
  },
  {
   "cell_type": "code",
   "execution_count": 15,
   "id": "267f8bec",
   "metadata": {},
   "outputs": [],
   "source": [
    "df[\"current_year\"] = 2022\n",
    "df[\"year\"] = df[\"current_year\"]- df[\"work_year\"]\n",
    "\n",
    "df.drop([\"current_year\"],axis = 1,inplace = True)\n",
    "df.drop([\"work_year\"],axis = 1,inplace = True)"
   ]
  },
  {
   "cell_type": "code",
   "execution_count": 16,
   "id": "eb2c7586",
   "metadata": {
    "scrolled": true
   },
   "outputs": [
    {
     "data": {
      "text/html": [
       "<div>\n",
       "<style scoped>\n",
       "    .dataframe tbody tr th:only-of-type {\n",
       "        vertical-align: middle;\n",
       "    }\n",
       "\n",
       "    .dataframe tbody tr th {\n",
       "        vertical-align: top;\n",
       "    }\n",
       "\n",
       "    .dataframe thead th {\n",
       "        text-align: right;\n",
       "    }\n",
       "</style>\n",
       "<table border=\"1\" class=\"dataframe\">\n",
       "  <thead>\n",
       "    <tr style=\"text-align: right;\">\n",
       "      <th></th>\n",
       "      <th>experience_level</th>\n",
       "      <th>employment_type</th>\n",
       "      <th>job_title</th>\n",
       "      <th>salary</th>\n",
       "      <th>salary_currency</th>\n",
       "      <th>salary_in_usd</th>\n",
       "      <th>employee_residence</th>\n",
       "      <th>remote_ratio</th>\n",
       "      <th>company_location</th>\n",
       "      <th>company_size</th>\n",
       "      <th>year</th>\n",
       "    </tr>\n",
       "  </thead>\n",
       "  <tbody>\n",
       "    <tr>\n",
       "      <th>0</th>\n",
       "      <td>MI</td>\n",
       "      <td>FT</td>\n",
       "      <td>Data Scientist</td>\n",
       "      <td>70000</td>\n",
       "      <td>EUR</td>\n",
       "      <td>79833</td>\n",
       "      <td>DE</td>\n",
       "      <td>0</td>\n",
       "      <td>DE</td>\n",
       "      <td>L</td>\n",
       "      <td>2</td>\n",
       "    </tr>\n",
       "    <tr>\n",
       "      <th>1</th>\n",
       "      <td>SE</td>\n",
       "      <td>FT</td>\n",
       "      <td>Machine Learning Scientist</td>\n",
       "      <td>260000</td>\n",
       "      <td>USD</td>\n",
       "      <td>260000</td>\n",
       "      <td>JP</td>\n",
       "      <td>0</td>\n",
       "      <td>JP</td>\n",
       "      <td>S</td>\n",
       "      <td>2</td>\n",
       "    </tr>\n",
       "    <tr>\n",
       "      <th>2</th>\n",
       "      <td>SE</td>\n",
       "      <td>FT</td>\n",
       "      <td>Big Data Engineer</td>\n",
       "      <td>85000</td>\n",
       "      <td>GBP</td>\n",
       "      <td>109024</td>\n",
       "      <td>GB</td>\n",
       "      <td>50</td>\n",
       "      <td>GB</td>\n",
       "      <td>M</td>\n",
       "      <td>2</td>\n",
       "    </tr>\n",
       "    <tr>\n",
       "      <th>3</th>\n",
       "      <td>MI</td>\n",
       "      <td>FT</td>\n",
       "      <td>Product Data Analyst</td>\n",
       "      <td>20000</td>\n",
       "      <td>USD</td>\n",
       "      <td>20000</td>\n",
       "      <td>HN</td>\n",
       "      <td>0</td>\n",
       "      <td>HN</td>\n",
       "      <td>S</td>\n",
       "      <td>2</td>\n",
       "    </tr>\n",
       "    <tr>\n",
       "      <th>4</th>\n",
       "      <td>SE</td>\n",
       "      <td>FT</td>\n",
       "      <td>Machine Learning Engineer</td>\n",
       "      <td>150000</td>\n",
       "      <td>USD</td>\n",
       "      <td>150000</td>\n",
       "      <td>US</td>\n",
       "      <td>50</td>\n",
       "      <td>US</td>\n",
       "      <td>L</td>\n",
       "      <td>2</td>\n",
       "    </tr>\n",
       "  </tbody>\n",
       "</table>\n",
       "</div>"
      ],
      "text/plain": [
       "  experience_level employment_type                   job_title  salary  \\\n",
       "0               MI              FT              Data Scientist   70000   \n",
       "1               SE              FT  Machine Learning Scientist  260000   \n",
       "2               SE              FT           Big Data Engineer   85000   \n",
       "3               MI              FT        Product Data Analyst   20000   \n",
       "4               SE              FT   Machine Learning Engineer  150000   \n",
       "\n",
       "  salary_currency  salary_in_usd employee_residence  remote_ratio  \\\n",
       "0             EUR          79833                 DE             0   \n",
       "1             USD         260000                 JP             0   \n",
       "2             GBP         109024                 GB            50   \n",
       "3             USD          20000                 HN             0   \n",
       "4             USD         150000                 US            50   \n",
       "\n",
       "  company_location company_size  year  \n",
       "0               DE            L     2  \n",
       "1               JP            S     2  \n",
       "2               GB            M     2  \n",
       "3               HN            S     2  \n",
       "4               US            L     2  "
      ]
     },
     "execution_count": 16,
     "metadata": {},
     "output_type": "execute_result"
    }
   ],
   "source": [
    "df.head()"
   ]
  },
  {
   "cell_type": "markdown",
   "id": "1ebc6177",
   "metadata": {},
   "source": [
    "## currency, salary"
   ]
  },
  {
   "cell_type": "code",
   "execution_count": 17,
   "id": "e5caea97",
   "metadata": {},
   "outputs": [],
   "source": [
    "df.drop([\"salary\",\"salary_currency\"],axis = 1, inplace= True)"
   ]
  },
  {
   "cell_type": "code",
   "execution_count": 18,
   "id": "dda171b2",
   "metadata": {
    "scrolled": true
   },
   "outputs": [
    {
     "data": {
      "text/html": [
       "<div>\n",
       "<style scoped>\n",
       "    .dataframe tbody tr th:only-of-type {\n",
       "        vertical-align: middle;\n",
       "    }\n",
       "\n",
       "    .dataframe tbody tr th {\n",
       "        vertical-align: top;\n",
       "    }\n",
       "\n",
       "    .dataframe thead th {\n",
       "        text-align: right;\n",
       "    }\n",
       "</style>\n",
       "<table border=\"1\" class=\"dataframe\">\n",
       "  <thead>\n",
       "    <tr style=\"text-align: right;\">\n",
       "      <th></th>\n",
       "      <th>experience_level</th>\n",
       "      <th>employment_type</th>\n",
       "      <th>job_title</th>\n",
       "      <th>salary_in_usd</th>\n",
       "      <th>employee_residence</th>\n",
       "      <th>remote_ratio</th>\n",
       "      <th>company_location</th>\n",
       "      <th>company_size</th>\n",
       "      <th>year</th>\n",
       "    </tr>\n",
       "  </thead>\n",
       "  <tbody>\n",
       "    <tr>\n",
       "      <th>0</th>\n",
       "      <td>MI</td>\n",
       "      <td>FT</td>\n",
       "      <td>Data Scientist</td>\n",
       "      <td>79833</td>\n",
       "      <td>DE</td>\n",
       "      <td>0</td>\n",
       "      <td>DE</td>\n",
       "      <td>L</td>\n",
       "      <td>2</td>\n",
       "    </tr>\n",
       "    <tr>\n",
       "      <th>1</th>\n",
       "      <td>SE</td>\n",
       "      <td>FT</td>\n",
       "      <td>Machine Learning Scientist</td>\n",
       "      <td>260000</td>\n",
       "      <td>JP</td>\n",
       "      <td>0</td>\n",
       "      <td>JP</td>\n",
       "      <td>S</td>\n",
       "      <td>2</td>\n",
       "    </tr>\n",
       "    <tr>\n",
       "      <th>2</th>\n",
       "      <td>SE</td>\n",
       "      <td>FT</td>\n",
       "      <td>Big Data Engineer</td>\n",
       "      <td>109024</td>\n",
       "      <td>GB</td>\n",
       "      <td>50</td>\n",
       "      <td>GB</td>\n",
       "      <td>M</td>\n",
       "      <td>2</td>\n",
       "    </tr>\n",
       "    <tr>\n",
       "      <th>3</th>\n",
       "      <td>MI</td>\n",
       "      <td>FT</td>\n",
       "      <td>Product Data Analyst</td>\n",
       "      <td>20000</td>\n",
       "      <td>HN</td>\n",
       "      <td>0</td>\n",
       "      <td>HN</td>\n",
       "      <td>S</td>\n",
       "      <td>2</td>\n",
       "    </tr>\n",
       "    <tr>\n",
       "      <th>4</th>\n",
       "      <td>SE</td>\n",
       "      <td>FT</td>\n",
       "      <td>Machine Learning Engineer</td>\n",
       "      <td>150000</td>\n",
       "      <td>US</td>\n",
       "      <td>50</td>\n",
       "      <td>US</td>\n",
       "      <td>L</td>\n",
       "      <td>2</td>\n",
       "    </tr>\n",
       "  </tbody>\n",
       "</table>\n",
       "</div>"
      ],
      "text/plain": [
       "  experience_level employment_type                   job_title  salary_in_usd  \\\n",
       "0               MI              FT              Data Scientist          79833   \n",
       "1               SE              FT  Machine Learning Scientist         260000   \n",
       "2               SE              FT           Big Data Engineer         109024   \n",
       "3               MI              FT        Product Data Analyst          20000   \n",
       "4               SE              FT   Machine Learning Engineer         150000   \n",
       "\n",
       "  employee_residence  remote_ratio company_location company_size  year  \n",
       "0                 DE             0               DE            L     2  \n",
       "1                 JP             0               JP            S     2  \n",
       "2                 GB            50               GB            M     2  \n",
       "3                 HN             0               HN            S     2  \n",
       "4                 US            50               US            L     2  "
      ]
     },
     "execution_count": 18,
     "metadata": {},
     "output_type": "execute_result"
    }
   ],
   "source": [
    "df.head()"
   ]
  },
  {
   "cell_type": "code",
   "execution_count": 19,
   "id": "14bb1ec3",
   "metadata": {},
   "outputs": [
    {
     "name": "stdout",
     "output_type": "stream",
     "text": [
      "After dropped to columns Index(['experience_level', 'employment_type', 'job_title',\n",
      "       'employee_residence', 'remote_ratio', 'company_location',\n",
      "       'company_size', 'year'],\n",
      "      dtype='object')\n",
      "Numerical columns: Index(['work_year', 'salary', 'remote_ratio'], dtype='object')\n",
      "\n",
      "Categorical columns: Index(['experience_level', 'employment_type', 'job_title', 'salary_currency',\n",
      "       'employee_residence', 'company_location', 'company_size'],\n",
      "      dtype='object')\n"
     ]
    }
   ],
   "source": [
    "final_model_features = df.columns.drop(model_target)\n",
    "\n",
    "print(f\"After dropped to columns {final_model_features}\")\n",
    "\n",
    "\n",
    "numerical_features_all = df[final_model_features].select_dtypes(include=np.number).columns\n",
    "print('Numerical columns:',numerical_features)\n",
    "\n",
    "print('')\n",
    "\n",
    "categorical_features_all = df[final_model_features].select_dtypes(include='object').columns\n",
    "print('Categorical columns:',categorical_features)\n",
    "\n"
   ]
  },
  {
   "cell_type": "markdown",
   "id": "2034fb66",
   "metadata": {},
   "source": [
    "## Outlier Detection"
   ]
  },
  {
   "cell_type": "code",
   "execution_count": 20,
   "id": "6edd79b0",
   "metadata": {},
   "outputs": [],
   "source": [
    "def IQR_method(df,numerical_features_all):\n",
    "    for c in numerical_features_all:\n",
    "        print(c)\n",
    "\n",
    "        # Drop values below Q1 - 1.5 IQR and beyond Q3 + 1.5 IQR\n",
    "        Q1 = df[c].quantile(0.25)\n",
    "        Q3 = df[c].quantile(0.75)\n",
    "        IQR = Q3 - Q1\n",
    "        print (Q1 - 1.5*IQR, Q3 + 1.5*IQR)\n",
    "\n",
    "        dropIndexes = df[df[c] > Q3 + 1.5*IQR].index\n",
    "        df.drop(dropIndexes , inplace=True)\n",
    "        dropIndexes = df[df[c] < Q1 - 1.5*IQR].index\n",
    "        df.drop(dropIndexes , inplace=True)"
   ]
  },
  {
   "cell_type": "code",
   "execution_count": 21,
   "id": "51314488",
   "metadata": {},
   "outputs": [
    {
     "name": "stdout",
     "output_type": "stream",
     "text": [
      "remote_ratio\n",
      "-25.0 175.0\n",
      "year\n",
      "-1.5 2.5\n"
     ]
    }
   ],
   "source": [
    "IQR_method(df,numerical_features_all)"
   ]
  },
  {
   "cell_type": "markdown",
   "id": "72a10b62",
   "metadata": {},
   "source": [
    "# Correlation Matrix"
   ]
  },
  {
   "cell_type": "code",
   "execution_count": 22,
   "id": "eadb03e7",
   "metadata": {},
   "outputs": [
    {
     "data": {
      "text/plain": [
       "<AxesSubplot:>"
      ]
     },
     "execution_count": 22,
     "metadata": {},
     "output_type": "execute_result"
    },
    {
     "data": {
      "image/png": "[encoded data removed]",
      "text/plain": [
       "<Figure size 432x288 with 2 Axes>"
      ]
     },
     "metadata": {
      "needs_background": "light"
     },
     "output_type": "display_data"
    }
   ],
   "source": [
    "corr = df.corr()\n",
    "sns.heatmap(corr,annot = True, fmt='.2f')"
   ]
  },
  {
   "cell_type": "markdown",
   "id": "1cfe57bd",
   "metadata": {},
   "source": [
    "# Pairplot"
   ]
  },
  {
   "cell_type": "code",
   "execution_count": 23,
   "id": "93cef877",
   "metadata": {},
   "outputs": [
    {
     "data": {
      "image/png": "[encoded data removed]",
      "text/plain": [
       "<Figure size 540x540 with 12 Axes>"
      ]
     },
     "metadata": {
      "needs_background": "light"
     },
     "output_type": "display_data"
    }
   ],
   "source": [
    "sns.pairplot(df)\n",
    "plt.show()"
   ]
  },
  {
   "cell_type": "code",
   "execution_count": 24,
   "id": "87b1eb2a",
   "metadata": {
    "scrolled": true
   },
   "outputs": [
    {
     "data": {
      "text/html": [
       "<div>\n",
       "<style scoped>\n",
       "    .dataframe tbody tr th:only-of-type {\n",
       "        vertical-align: middle;\n",
       "    }\n",
       "\n",
       "    .dataframe tbody tr th {\n",
       "        vertical-align: top;\n",
       "    }\n",
       "\n",
       "    .dataframe thead th {\n",
       "        text-align: right;\n",
       "    }\n",
       "</style>\n",
       "<table border=\"1\" class=\"dataframe\">\n",
       "  <thead>\n",
       "    <tr style=\"text-align: right;\">\n",
       "      <th></th>\n",
       "      <th>experience_level</th>\n",
       "      <th>employment_type</th>\n",
       "      <th>job_title</th>\n",
       "      <th>employee_residence</th>\n",
       "      <th>company_location</th>\n",
       "      <th>company_size</th>\n",
       "    </tr>\n",
       "  </thead>\n",
       "  <tbody>\n",
       "    <tr>\n",
       "      <th>0</th>\n",
       "      <td>MI</td>\n",
       "      <td>FT</td>\n",
       "      <td>Data Scientist</td>\n",
       "      <td>DE</td>\n",
       "      <td>DE</td>\n",
       "      <td>L</td>\n",
       "    </tr>\n",
       "    <tr>\n",
       "      <th>1</th>\n",
       "      <td>SE</td>\n",
       "      <td>FT</td>\n",
       "      <td>Machine Learning Scientist</td>\n",
       "      <td>JP</td>\n",
       "      <td>JP</td>\n",
       "      <td>S</td>\n",
       "    </tr>\n",
       "    <tr>\n",
       "      <th>2</th>\n",
       "      <td>SE</td>\n",
       "      <td>FT</td>\n",
       "      <td>Big Data Engineer</td>\n",
       "      <td>GB</td>\n",
       "      <td>GB</td>\n",
       "      <td>M</td>\n",
       "    </tr>\n",
       "    <tr>\n",
       "      <th>3</th>\n",
       "      <td>MI</td>\n",
       "      <td>FT</td>\n",
       "      <td>Product Data Analyst</td>\n",
       "      <td>HN</td>\n",
       "      <td>HN</td>\n",
       "      <td>S</td>\n",
       "    </tr>\n",
       "    <tr>\n",
       "      <th>4</th>\n",
       "      <td>SE</td>\n",
       "      <td>FT</td>\n",
       "      <td>Machine Learning Engineer</td>\n",
       "      <td>US</td>\n",
       "      <td>US</td>\n",
       "      <td>L</td>\n",
       "    </tr>\n",
       "  </tbody>\n",
       "</table>\n",
       "</div>"
      ],
      "text/plain": [
       "  experience_level employment_type                   job_title  \\\n",
       "0               MI              FT              Data Scientist   \n",
       "1               SE              FT  Machine Learning Scientist   \n",
       "2               SE              FT           Big Data Engineer   \n",
       "3               MI              FT        Product Data Analyst   \n",
       "4               SE              FT   Machine Learning Engineer   \n",
       "\n",
       "  employee_residence company_location company_size  \n",
       "0                 DE               DE            L  \n",
       "1                 JP               JP            S  \n",
       "2                 GB               GB            M  \n",
       "3                 HN               HN            S  \n",
       "4                 US               US            L  "
      ]
     },
     "execution_count": 24,
     "metadata": {},
     "output_type": "execute_result"
    }
   ],
   "source": [
    "df[categorical_features_all].head()"
   ]
  },
  {
   "cell_type": "markdown",
   "id": "95f30e78",
   "metadata": {},
   "source": [
    "##  employee_residence - company_location"
   ]
  },
  {
   "cell_type": "code",
   "execution_count": 25,
   "id": "4ef16ea0",
   "metadata": {
    "scrolled": true
   },
   "outputs": [
    {
     "data": {
      "text/html": [
       "<div>\n",
       "<style scoped>\n",
       "    .dataframe tbody tr th:only-of-type {\n",
       "        vertical-align: middle;\n",
       "    }\n",
       "\n",
       "    .dataframe tbody tr th {\n",
       "        vertical-align: top;\n",
       "    }\n",
       "\n",
       "    .dataframe thead th {\n",
       "        text-align: right;\n",
       "    }\n",
       "</style>\n",
       "<table border=\"1\" class=\"dataframe\">\n",
       "  <thead>\n",
       "    <tr style=\"text-align: right;\">\n",
       "      <th></th>\n",
       "      <th>variable</th>\n",
       "      <th>value</th>\n",
       "    </tr>\n",
       "  </thead>\n",
       "  <tbody>\n",
       "    <tr>\n",
       "      <th>0</th>\n",
       "      <td>employee_residence</td>\n",
       "      <td>DE</td>\n",
       "    </tr>\n",
       "    <tr>\n",
       "      <th>1</th>\n",
       "      <td>employee_residence</td>\n",
       "      <td>JP</td>\n",
       "    </tr>\n",
       "    <tr>\n",
       "      <th>2</th>\n",
       "      <td>employee_residence</td>\n",
       "      <td>GB</td>\n",
       "    </tr>\n",
       "    <tr>\n",
       "      <th>3</th>\n",
       "      <td>employee_residence</td>\n",
       "      <td>HN</td>\n",
       "    </tr>\n",
       "    <tr>\n",
       "      <th>4</th>\n",
       "      <td>employee_residence</td>\n",
       "      <td>US</td>\n",
       "    </tr>\n",
       "    <tr>\n",
       "      <th>...</th>\n",
       "      <td>...</td>\n",
       "      <td>...</td>\n",
       "    </tr>\n",
       "    <tr>\n",
       "      <th>1209</th>\n",
       "      <td>company_location</td>\n",
       "      <td>US</td>\n",
       "    </tr>\n",
       "    <tr>\n",
       "      <th>1210</th>\n",
       "      <td>company_location</td>\n",
       "      <td>US</td>\n",
       "    </tr>\n",
       "    <tr>\n",
       "      <th>1211</th>\n",
       "      <td>company_location</td>\n",
       "      <td>US</td>\n",
       "    </tr>\n",
       "    <tr>\n",
       "      <th>1212</th>\n",
       "      <td>company_location</td>\n",
       "      <td>US</td>\n",
       "    </tr>\n",
       "    <tr>\n",
       "      <th>1213</th>\n",
       "      <td>company_location</td>\n",
       "      <td>US</td>\n",
       "    </tr>\n",
       "  </tbody>\n",
       "</table>\n",
       "<p>1214 rows × 2 columns</p>\n",
       "</div>"
      ],
      "text/plain": [
       "                variable value\n",
       "0     employee_residence    DE\n",
       "1     employee_residence    JP\n",
       "2     employee_residence    GB\n",
       "3     employee_residence    HN\n",
       "4     employee_residence    US\n",
       "...                  ...   ...\n",
       "1209    company_location    US\n",
       "1210    company_location    US\n",
       "1211    company_location    US\n",
       "1212    company_location    US\n",
       "1213    company_location    US\n",
       "\n",
       "[1214 rows x 2 columns]"
      ]
     },
     "execution_count": 25,
     "metadata": {},
     "output_type": "execute_result"
    }
   ],
   "source": [
    "employee_melted_data= pd.melt(df, value_vars =['employee_residence', 'company_location'])\n",
    "employee_melted_data"
   ]
  },
  {
   "cell_type": "code",
   "execution_count": 26,
   "id": "e10b73f9",
   "metadata": {
    "scrolled": false
   },
   "outputs": [
    {
     "data": {
      "image/png": "[encoded data removed]",
      "text/plain": [
       "<Figure size 1440x2160 with 1 Axes>"
      ]
     },
     "metadata": {
      "needs_background": "light"
     },
     "output_type": "display_data"
    }
   ],
   "source": [
    "plt.figure(figsize = (20,30))\n",
    "ax = sns.countplot(data = employee_melted_data,\n",
    "                  y = \"value\", hue = \"variable\")"
   ]
  },
  {
   "cell_type": "code",
   "execution_count": 27,
   "id": "8fff02f8",
   "metadata": {},
   "outputs": [
    {
     "name": "stderr",
     "output_type": "stream",
     "text": [
      "C:\\Users\\ahmet\\AppData\\Local\\Temp\\ipykernel_8084\\893502795.py:4: SettingWithCopyWarning: \n",
      "A value is trying to be set on a copy of a slice from a DataFrame\n",
      "\n",
      "See the caveats in the documentation: https://pandas.pydata.org/pandas-docs/stable/user_guide/indexing.html#returning-a-view-versus-a-copy\n",
      "  df[\"employee_residence\"][mask_employee_residence] = \"Other\"\n"
     ]
    }
   ],
   "source": [
    "counts_employee_residence = df[\"employee_residence\"].value_counts()\n",
    "\n",
    "mask_employee_residence = df[\"employee_residence\"].isin(counts_employee_residence[counts_employee_residence<5].index)\n",
    "df[\"employee_residence\"][mask_employee_residence] = \"Other\""
   ]
  },
  {
   "cell_type": "code",
   "execution_count": 28,
   "id": "d0d09c26",
   "metadata": {},
   "outputs": [
    {
     "data": {
      "text/plain": [
       "US       332\n",
       "Other     71\n",
       "GB        44\n",
       "IN        30\n",
       "CA        29\n",
       "DE        25\n",
       "FR        18\n",
       "ES        15\n",
       "GR        13\n",
       "JP         7\n",
       "PK         6\n",
       "PT         6\n",
       "BR         6\n",
       "NL         5\n",
       "Name: employee_residence, dtype: int64"
      ]
     },
     "execution_count": 28,
     "metadata": {},
     "output_type": "execute_result"
    }
   ],
   "source": [
    "df[\"employee_residence\"].value_counts()"
   ]
  },
  {
   "cell_type": "markdown",
   "id": "283c2d6a",
   "metadata": {},
   "source": [
    "## Job title"
   ]
  },
  {
   "cell_type": "code",
   "execution_count": 29,
   "id": "4a829966",
   "metadata": {},
   "outputs": [
    {
     "data": {
      "image/png": "[encoded data removed]",
      "text/plain": [
       "<Figure size 1440x1440 with 1 Axes>"
      ]
     },
     "metadata": {
      "needs_background": "light"
     },
     "output_type": "display_data"
    }
   ],
   "source": [
    "plt.figure(figsize= (20,20))\n",
    "sns.countplot(data = df,y = \"job_title\")\n",
    "plt.show()"
   ]
  },
  {
   "cell_type": "code",
   "execution_count": 30,
   "id": "587c4b74",
   "metadata": {
    "scrolled": true
   },
   "outputs": [
    {
     "data": {
      "text/plain": [
       "Data Scientist                              143\n",
       "Data Engineer                               132\n",
       "Data Analyst                                 97\n",
       "Machine Learning Engineer                    41\n",
       "Research Scientist                           16\n",
       "Data Science Manager                         12\n",
       "Data Architect                               11\n",
       "Big Data Engineer                             8\n",
       "Machine Learning Scientist                    8\n",
       "Principal Data Scientist                      7\n",
       "AI Scientist                                  7\n",
       "Data Science Consultant                       7\n",
       "Director of Data Science                      7\n",
       "Data Analytics Manager                        7\n",
       "ML Engineer                                   6\n",
       "Computer Vision Engineer                      6\n",
       "BI Data Analyst                               6\n",
       "Lead Data Engineer                            6\n",
       "Data Engineering Manager                      5\n",
       "Business Data Analyst                         5\n",
       "Head of Data                                  5\n",
       "Applied Data Scientist                        5\n",
       "Applied Machine Learning Scientist            4\n",
       "Head of Data Science                          4\n",
       "Analytics Engineer                            4\n",
       "Data Analytics Engineer                       4\n",
       "Machine Learning Developer                    3\n",
       "Machine Learning Infrastructure Engineer      3\n",
       "Lead Data Scientist                           3\n",
       "Computer Vision Software Engineer             3\n",
       "Lead Data Analyst                             3\n",
       "Data Science Engineer                         3\n",
       "Principal Data Engineer                       3\n",
       "Principal Data Analyst                        2\n",
       "ETL Developer                                 2\n",
       "Product Data Analyst                          2\n",
       "Director of Data Engineering                  2\n",
       "Financial Data Analyst                        2\n",
       "Cloud Data Engineer                           2\n",
       "Lead Machine Learning Engineer                1\n",
       "NLP Engineer                                  1\n",
       "Head of Machine Learning                      1\n",
       "3D Computer Vision Researcher                 1\n",
       "Data Specialist                               1\n",
       "Staff Data Scientist                          1\n",
       "Big Data Architect                            1\n",
       "Finance Data Analyst                          1\n",
       "Marketing Data Analyst                        1\n",
       "Machine Learning Manager                      1\n",
       "Data Analytics Lead                           1\n",
       "Name: job_title, dtype: int64"
      ]
     },
     "execution_count": 30,
     "metadata": {},
     "output_type": "execute_result"
    }
   ],
   "source": [
    "df[\"job_title\"].value_counts()"
   ]
  },
  {
   "cell_type": "markdown",
   "id": "5d78a5ff",
   "metadata": {},
   "source": [
    "#### I will set threshold at 4 and set others less than threshold"
   ]
  },
  {
   "cell_type": "code",
   "execution_count": 31,
   "id": "2647297c",
   "metadata": {},
   "outputs": [
    {
     "name": "stderr",
     "output_type": "stream",
     "text": [
      "C:\\Users\\ahmet\\AppData\\Local\\Temp\\ipykernel_8084\\3572671263.py:5: SettingWithCopyWarning: \n",
      "A value is trying to be set on a copy of a slice from a DataFrame\n",
      "\n",
      "See the caveats in the documentation: https://pandas.pydata.org/pandas-docs/stable/user_guide/indexing.html#returning-a-view-versus-a-copy\n",
      "  df[\"job_title\"][mask_job_title] = \"Other\"\n"
     ]
    }
   ],
   "source": [
    "threshold= 4\n",
    "counts_job_title = df[\"job_title\"].value_counts()\n",
    "\n",
    "mask_job_title = df[\"job_title\"].isin(counts_job_title[counts_job_title < threshold].index)\n",
    "df[\"job_title\"][mask_job_title] = \"Other\""
   ]
  },
  {
   "cell_type": "code",
   "execution_count": 32,
   "id": "cc1523a7",
   "metadata": {},
   "outputs": [
    {
     "data": {
      "text/plain": [
       "Data Scientist                        143\n",
       "Data Engineer                         132\n",
       "Data Analyst                           97\n",
       "Other                                  44\n",
       "Machine Learning Engineer              41\n",
       "Research Scientist                     16\n",
       "Data Science Manager                   12\n",
       "Data Architect                         11\n",
       "Big Data Engineer                       8\n",
       "Machine Learning Scientist              8\n",
       "Principal Data Scientist                7\n",
       "AI Scientist                            7\n",
       "Data Analytics Manager                  7\n",
       "Director of Data Science                7\n",
       "Data Science Consultant                 7\n",
       "ML Engineer                             6\n",
       "Computer Vision Engineer                6\n",
       "Lead Data Engineer                      6\n",
       "BI Data Analyst                         6\n",
       "Applied Data Scientist                  5\n",
       "Data Engineering Manager                5\n",
       "Head of Data                            5\n",
       "Business Data Analyst                   5\n",
       "Data Analytics Engineer                 4\n",
       "Applied Machine Learning Scientist      4\n",
       "Head of Data Science                    4\n",
       "Analytics Engineer                      4\n",
       "Name: job_title, dtype: int64"
      ]
     },
     "execution_count": 32,
     "metadata": {},
     "output_type": "execute_result"
    }
   ],
   "source": [
    "df[\"job_title\"].value_counts()"
   ]
  },
  {
   "cell_type": "markdown",
   "id": "15355ff2",
   "metadata": {},
   "source": [
    "### Remote ration\n",
    "\n",
    "- 0  : \"office\",\n",
    "- 50 : \"hybrid\",\n",
    "- 100: \"remote\""
   ]
  },
  {
   "cell_type": "code",
   "execution_count": 33,
   "id": "13d13df0",
   "metadata": {},
   "outputs": [
    {
     "data": {
      "text/html": [
       "<div>\n",
       "<style scoped>\n",
       "    .dataframe tbody tr th:only-of-type {\n",
       "        vertical-align: middle;\n",
       "    }\n",
       "\n",
       "    .dataframe tbody tr th {\n",
       "        vertical-align: top;\n",
       "    }\n",
       "\n",
       "    .dataframe thead th {\n",
       "        text-align: right;\n",
       "    }\n",
       "</style>\n",
       "<table border=\"1\" class=\"dataframe\">\n",
       "  <thead>\n",
       "    <tr style=\"text-align: right;\">\n",
       "      <th></th>\n",
       "      <th>experience_level</th>\n",
       "      <th>employment_type</th>\n",
       "      <th>job_title</th>\n",
       "      <th>salary_in_usd</th>\n",
       "      <th>employee_residence</th>\n",
       "      <th>remote_ratio</th>\n",
       "      <th>company_location</th>\n",
       "      <th>company_size</th>\n",
       "      <th>year</th>\n",
       "    </tr>\n",
       "  </thead>\n",
       "  <tbody>\n",
       "    <tr>\n",
       "      <th>0</th>\n",
       "      <td>MI</td>\n",
       "      <td>FT</td>\n",
       "      <td>Data Scientist</td>\n",
       "      <td>79833</td>\n",
       "      <td>DE</td>\n",
       "      <td>0</td>\n",
       "      <td>DE</td>\n",
       "      <td>L</td>\n",
       "      <td>2</td>\n",
       "    </tr>\n",
       "    <tr>\n",
       "      <th>1</th>\n",
       "      <td>SE</td>\n",
       "      <td>FT</td>\n",
       "      <td>Machine Learning Scientist</td>\n",
       "      <td>260000</td>\n",
       "      <td>JP</td>\n",
       "      <td>0</td>\n",
       "      <td>JP</td>\n",
       "      <td>S</td>\n",
       "      <td>2</td>\n",
       "    </tr>\n",
       "    <tr>\n",
       "      <th>2</th>\n",
       "      <td>SE</td>\n",
       "      <td>FT</td>\n",
       "      <td>Big Data Engineer</td>\n",
       "      <td>109024</td>\n",
       "      <td>GB</td>\n",
       "      <td>50</td>\n",
       "      <td>GB</td>\n",
       "      <td>M</td>\n",
       "      <td>2</td>\n",
       "    </tr>\n",
       "    <tr>\n",
       "      <th>3</th>\n",
       "      <td>MI</td>\n",
       "      <td>FT</td>\n",
       "      <td>Other</td>\n",
       "      <td>20000</td>\n",
       "      <td>Other</td>\n",
       "      <td>0</td>\n",
       "      <td>HN</td>\n",
       "      <td>S</td>\n",
       "      <td>2</td>\n",
       "    </tr>\n",
       "    <tr>\n",
       "      <th>4</th>\n",
       "      <td>SE</td>\n",
       "      <td>FT</td>\n",
       "      <td>Machine Learning Engineer</td>\n",
       "      <td>150000</td>\n",
       "      <td>US</td>\n",
       "      <td>50</td>\n",
       "      <td>US</td>\n",
       "      <td>L</td>\n",
       "      <td>2</td>\n",
       "    </tr>\n",
       "  </tbody>\n",
       "</table>\n",
       "</div>"
      ],
      "text/plain": [
       "  experience_level employment_type                   job_title  salary_in_usd  \\\n",
       "0               MI              FT              Data Scientist          79833   \n",
       "1               SE              FT  Machine Learning Scientist         260000   \n",
       "2               SE              FT           Big Data Engineer         109024   \n",
       "3               MI              FT                       Other          20000   \n",
       "4               SE              FT   Machine Learning Engineer         150000   \n",
       "\n",
       "  employee_residence  remote_ratio company_location company_size  year  \n",
       "0                 DE             0               DE            L     2  \n",
       "1                 JP             0               JP            S     2  \n",
       "2                 GB            50               GB            M     2  \n",
       "3              Other             0               HN            S     2  \n",
       "4                 US            50               US            L     2  "
      ]
     },
     "execution_count": 33,
     "metadata": {},
     "output_type": "execute_result"
    }
   ],
   "source": [
    "df.head()"
   ]
  },
  {
   "cell_type": "code",
   "execution_count": 34,
   "id": "bb535382",
   "metadata": {},
   "outputs": [
    {
     "data": {
      "text/plain": [
       "remote    381\n",
       "office    127\n",
       "hybrid     99\n",
       "Name: remote_ratio, dtype: int64"
      ]
     },
     "execution_count": 34,
     "metadata": {},
     "output_type": "execute_result"
    }
   ],
   "source": [
    "dict_remote_ratio = {0: \"office\",\n",
    "                    50: \"hybrid\",\n",
    "                    100: \"remote\"}\n",
    "\n",
    "df[\"remote_ratio\"] = df[\"remote_ratio\"].map(dict_remote_ratio)\n",
    "df[\"remote_ratio\"].value_counts()"
   ]
  },
  {
   "cell_type": "markdown",
   "id": "6a64c8ce",
   "metadata": {},
   "source": [
    "# Preprocess Pipeline"
   ]
  },
  {
   "cell_type": "code",
   "execution_count": 35,
   "id": "9b4ff157",
   "metadata": {},
   "outputs": [],
   "source": [
    "from sklearn.pipeline import Pipeline\n",
    "from sklearn.compose import ColumnTransformer\n",
    "from sklearn.preprocessing import OneHotEncoder,OrdinalEncoder\n",
    "from sklearn.ensemble import RandomForestRegressor\n",
    "from sklearn.model_selection import RandomizedSearchCV\n",
    "from sklearn.model_selection import train_test_split"
   ]
  },
  {
   "cell_type": "code",
   "execution_count": 36,
   "id": "f553acdd",
   "metadata": {},
   "outputs": [],
   "source": [
    "X = df.drop(\"salary_in_usd\",axis = 1)\n",
    "y = df[\"salary_in_usd\"]"
   ]
  },
  {
   "cell_type": "markdown",
   "id": "683ed822",
   "metadata": {},
   "source": [
    "## Train- Test spliti"
   ]
  },
  {
   "cell_type": "code",
   "execution_count": 37,
   "id": "737bf1cd",
   "metadata": {},
   "outputs": [
    {
     "name": "stdout",
     "output_type": "stream",
     "text": [
      "Datasets shapes before processing:  (485, 8) (122, 8)\n"
     ]
    }
   ],
   "source": [
    "X_train,X_test,y_train,y_test=train_test_split(X,y,test_size=0.2,random_state =42 )\n",
    "\n",
    "print('Datasets shapes before processing: ', X_train.shape, X_test.shape)"
   ]
  },
  {
   "cell_type": "markdown",
   "id": "60c7110e",
   "metadata": {},
   "source": [
    "#### experience_level || company_size              ==> Ordinary Encoding\n",
    "\n",
    "#### employee_residence || employment_type || company_location || remote_ratio ==> OHE"
   ]
  },
  {
   "cell_type": "code",
   "execution_count": 38,
   "id": "c57444d3",
   "metadata": {},
   "outputs": [],
   "source": [
    "categorical_features_OHE = [\"employee_residence\", \"employment_type\", \"company_location\", \"remote_ratio\",\"job_title\"]\n",
    "\n",
    "ordinal_features = [\"experience_level\",\"company_size\"]\n",
    "\n",
    "\n",
    "experience_level_categories = ['EX','SE','MI','EN']\n",
    "company_size_categories = ['L', 'M', 'S']"
   ]
  },
  {
   "cell_type": "code",
   "execution_count": 39,
   "id": "cb569efa",
   "metadata": {},
   "outputs": [
    {
     "data": {
      "text/html": [
       "<style>#sk-container-id-1 {color: black;background-color: white;}#sk-container-id-1 pre{padding: 0;}#sk-container-id-1 div.sk-toggleable {background-color: white;}#sk-container-id-1 label.sk-toggleable__label {cursor: pointer;display: block;width: 100%;margin-bottom: 0;padding: 0.3em;box-sizing: border-box;text-align: center;}#sk-container-id-1 label.sk-toggleable__label-arrow:before {content: \"▸\";float: left;margin-right: 0.25em;color: #696969;}#sk-container-id-1 label.sk-toggleable__label-arrow:hover:before {color: black;}#sk-container-id-1 div.sk-estimator:hover label.sk-toggleable__label-arrow:before {color: black;}#sk-container-id-1 div.sk-toggleable__content {max-height: 0;max-width: 0;overflow: hidden;text-align: left;background-color: #f0f8ff;}#sk-container-id-1 div.sk-toggleable__content pre {margin: 0.2em;color: black;border-radius: 0.25em;background-color: #f0f8ff;}#sk-container-id-1 input.sk-toggleable__control:checked~div.sk-toggleable__content {max-height: 200px;max-width: 100%;overflow: auto;}#sk-container-id-1 input.sk-toggleable__control:checked~label.sk-toggleable__label-arrow:before {content: \"▾\";}#sk-container-id-1 div.sk-estimator input.sk-toggleable__control:checked~label.sk-toggleable__label {background-color: #d4ebff;}#sk-container-id-1 div.sk-label input.sk-toggleable__control:checked~label.sk-toggleable__label {background-color: #d4ebff;}#sk-container-id-1 input.sk-hidden--visually {border: 0;clip: rect(1px 1px 1px 1px);clip: rect(1px, 1px, 1px, 1px);height: 1px;margin: -1px;overflow: hidden;padding: 0;position: absolute;width: 1px;}#sk-container-id-1 div.sk-estimator {font-family: monospace;background-color: #f0f8ff;border: 1px dotted black;border-radius: 0.25em;box-sizing: border-box;margin-bottom: 0.5em;}#sk-container-id-1 div.sk-estimator:hover {background-color: #d4ebff;}#sk-container-id-1 div.sk-parallel-item::after {content: \"\";width: 100%;border-bottom: 1px solid gray;flex-grow: 1;}#sk-container-id-1 div.sk-label:hover label.sk-toggleable__label {background-color: #d4ebff;}#sk-container-id-1 div.sk-serial::before {content: \"\";position: absolute;border-left: 1px solid gray;box-sizing: border-box;top: 0;bottom: 0;left: 50%;z-index: 0;}#sk-container-id-1 div.sk-serial {display: flex;flex-direction: column;align-items: center;background-color: white;padding-right: 0.2em;padding-left: 0.2em;position: relative;}#sk-container-id-1 div.sk-item {position: relative;z-index: 1;}#sk-container-id-1 div.sk-parallel {display: flex;align-items: stretch;justify-content: center;background-color: white;position: relative;}#sk-container-id-1 div.sk-item::before, #sk-container-id-1 div.sk-parallel-item::before {content: \"\";position: absolute;border-left: 1px solid gray;box-sizing: border-box;top: 0;bottom: 0;left: 50%;z-index: -1;}#sk-container-id-1 div.sk-parallel-item {display: flex;flex-direction: column;z-index: 1;position: relative;background-color: white;}#sk-container-id-1 div.sk-parallel-item:first-child::after {align-self: flex-end;width: 50%;}#sk-container-id-1 div.sk-parallel-item:last-child::after {align-self: flex-start;width: 50%;}#sk-container-id-1 div.sk-parallel-item:only-child::after {width: 0;}#sk-container-id-1 div.sk-dashed-wrapped {border: 1px dashed gray;margin: 0 0.4em 0.5em 0.4em;box-sizing: border-box;padding-bottom: 0.4em;background-color: white;}#sk-container-id-1 div.sk-label label {font-family: monospace;font-weight: bold;display: inline-block;line-height: 1.2em;}#sk-container-id-1 div.sk-label-container {text-align: center;}#sk-container-id-1 div.sk-container {/* jupyter's `normalize.less` sets `[hidden] { display: none; }` but bootstrap.min.css set `[hidden] { display: none !important; }` so we also need the `!important` here to be able to override the default hidden behavior on the sphinx rendered scikit-learn.org. See: https://github.com/scikit-learn/scikit-learn/issues/21755 */display: inline-block !important;position: relative;}#sk-container-id-1 div.sk-text-repr-fallback {display: none;}</style><div id=\"sk-container-id-1\" class=\"sk-top-container\"><div class=\"sk-text-repr-fallback\"><pre>ColumnTransformer(transformers=[(&#x27;Ordinal_encoder&#x27;,\n",
       "                                 Pipeline(steps=[(&#x27;ordinary_encoder&#x27;,\n",
       "                                                  OrdinalEncoder(categories=[[&#x27;EX&#x27;,\n",
       "                                                                              &#x27;SE&#x27;,\n",
       "                                                                              &#x27;MI&#x27;,\n",
       "                                                                              &#x27;EN&#x27;],\n",
       "                                                                             [&#x27;L&#x27;,\n",
       "                                                                              &#x27;M&#x27;,\n",
       "                                                                              &#x27;S&#x27;]]))]),\n",
       "                                 [&#x27;experience_level&#x27;, &#x27;company_size&#x27;]),\n",
       "                                (&#x27;cat_encoder&#x27;,\n",
       "                                 Pipeline(steps=[(&#x27;cat_encoder&#x27;,\n",
       "                                                  OneHotEncoder(handle_unknown=&#x27;ignore&#x27;))]),\n",
       "                                 [&#x27;employee_residence&#x27;, &#x27;employment_type&#x27;,\n",
       "                                  &#x27;company_location&#x27;, &#x27;remote_ratio&#x27;,\n",
       "                                  &#x27;job_title&#x27;])])</pre><b>In a Jupyter environment, please rerun this cell to show the HTML representation or trust the notebook. <br />On GitHub, the HTML representation is unable to render, please try loading this page with nbviewer.org.</b></div><div class=\"sk-container\" hidden><div class=\"sk-item sk-dashed-wrapped\"><div class=\"sk-label-container\"><div class=\"sk-label sk-toggleable\"><input class=\"sk-toggleable__control sk-hidden--visually\" id=\"sk-estimator-id-1\" type=\"checkbox\" ><label for=\"sk-estimator-id-1\" class=\"sk-toggleable__label sk-toggleable__label-arrow\">ColumnTransformer</label><div class=\"sk-toggleable__content\"><pre>ColumnTransformer(transformers=[(&#x27;Ordinal_encoder&#x27;,\n",
       "                                 Pipeline(steps=[(&#x27;ordinary_encoder&#x27;,\n",
       "                                                  OrdinalEncoder(categories=[[&#x27;EX&#x27;,\n",
       "                                                                              &#x27;SE&#x27;,\n",
       "                                                                              &#x27;MI&#x27;,\n",
       "                                                                              &#x27;EN&#x27;],\n",
       "                                                                             [&#x27;L&#x27;,\n",
       "                                                                              &#x27;M&#x27;,\n",
       "                                                                              &#x27;S&#x27;]]))]),\n",
       "                                 [&#x27;experience_level&#x27;, &#x27;company_size&#x27;]),\n",
       "                                (&#x27;cat_encoder&#x27;,\n",
       "                                 Pipeline(steps=[(&#x27;cat_encoder&#x27;,\n",
       "                                                  OneHotEncoder(handle_unknown=&#x27;ignore&#x27;))]),\n",
       "                                 [&#x27;employee_residence&#x27;, &#x27;employment_type&#x27;,\n",
       "                                  &#x27;company_location&#x27;, &#x27;remote_ratio&#x27;,\n",
       "                                  &#x27;job_title&#x27;])])</pre></div></div></div><div class=\"sk-parallel\"><div class=\"sk-parallel-item\"><div class=\"sk-item\"><div class=\"sk-label-container\"><div class=\"sk-label sk-toggleable\"><input class=\"sk-toggleable__control sk-hidden--visually\" id=\"sk-estimator-id-2\" type=\"checkbox\" ><label for=\"sk-estimator-id-2\" class=\"sk-toggleable__label sk-toggleable__label-arrow\">Ordinal_encoder</label><div class=\"sk-toggleable__content\"><pre>[&#x27;experience_level&#x27;, &#x27;company_size&#x27;]</pre></div></div></div><div class=\"sk-serial\"><div class=\"sk-item\"><div class=\"sk-serial\"><div class=\"sk-item\"><div class=\"sk-estimator sk-toggleable\"><input class=\"sk-toggleable__control sk-hidden--visually\" id=\"sk-estimator-id-3\" type=\"checkbox\" ><label for=\"sk-estimator-id-3\" class=\"sk-toggleable__label sk-toggleable__label-arrow\">OrdinalEncoder</label><div class=\"sk-toggleable__content\"><pre>OrdinalEncoder(categories=[[&#x27;EX&#x27;, &#x27;SE&#x27;, &#x27;MI&#x27;, &#x27;EN&#x27;], [&#x27;L&#x27;, &#x27;M&#x27;, &#x27;S&#x27;]])</pre></div></div></div></div></div></div></div></div><div class=\"sk-parallel-item\"><div class=\"sk-item\"><div class=\"sk-label-container\"><div class=\"sk-label sk-toggleable\"><input class=\"sk-toggleable__control sk-hidden--visually\" id=\"sk-estimator-id-4\" type=\"checkbox\" ><label for=\"sk-estimator-id-4\" class=\"sk-toggleable__label sk-toggleable__label-arrow\">cat_encoder</label><div class=\"sk-toggleable__content\"><pre>[&#x27;employee_residence&#x27;, &#x27;employment_type&#x27;, &#x27;company_location&#x27;, &#x27;remote_ratio&#x27;, &#x27;job_title&#x27;]</pre></div></div></div><div class=\"sk-serial\"><div class=\"sk-item\"><div class=\"sk-serial\"><div class=\"sk-item\"><div class=\"sk-estimator sk-toggleable\"><input class=\"sk-toggleable__control sk-hidden--visually\" id=\"sk-estimator-id-5\" type=\"checkbox\" ><label for=\"sk-estimator-id-5\" class=\"sk-toggleable__label sk-toggleable__label-arrow\">OneHotEncoder</label><div class=\"sk-toggleable__content\"><pre>OneHotEncoder(handle_unknown=&#x27;ignore&#x27;)</pre></div></div></div></div></div></div></div></div></div></div></div></div>"
      ],
      "text/plain": [
       "ColumnTransformer(transformers=[('Ordinal_encoder',\n",
       "                                 Pipeline(steps=[('ordinary_encoder',\n",
       "                                                  OrdinalEncoder(categories=[['EX',\n",
       "                                                                              'SE',\n",
       "                                                                              'MI',\n",
       "                                                                              'EN'],\n",
       "                                                                             ['L',\n",
       "                                                                              'M',\n",
       "                                                                              'S']]))]),\n",
       "                                 ['experience_level', 'company_size']),\n",
       "                                ('cat_encoder',\n",
       "                                 Pipeline(steps=[('cat_encoder',\n",
       "                                                  OneHotEncoder(handle_unknown='ignore'))]),\n",
       "                                 ['employee_residence', 'employment_type',\n",
       "                                  'company_location', 'remote_ratio',\n",
       "                                  'job_title'])])"
      ]
     },
     "execution_count": 39,
     "metadata": {},
     "output_type": "execute_result"
    }
   ],
   "source": [
    "ordinal_processor = Pipeline([\n",
    "    ('ordinary_encoder', OrdinalEncoder(categories = [experience_level_categories,company_size_categories]))\n",
    "                                ])\n",
    "                  \n",
    "# Preprocess the categorical features\n",
    "categorical_processor = Pipeline([\n",
    "    ('cat_encoder', OneHotEncoder(handle_unknown='ignore'))\n",
    "                                ])\n",
    "\n",
    "data_preprocessor = ColumnTransformer([\n",
    "    (\"Ordinal_encoder\",ordinal_processor,ordinal_features ),\n",
    "    (\"cat_encoder\",categorical_processor,categorical_features_OHE)\n",
    "                                    ]) \n",
    "data_preprocessor"
   ]
  },
  {
   "cell_type": "markdown",
   "id": "41151f22",
   "metadata": {},
   "source": [
    "## Build Pipeline"
   ]
  },
  {
   "cell_type": "code",
   "execution_count": 40,
   "id": "165b4615",
   "metadata": {},
   "outputs": [],
   "source": [
    "from sklearn.feature_selection import SelectKBest, mutual_info_regression\n",
    "from sklearn.ensemble import RandomForestRegressor\n",
    "from sklearn import metrics"
   ]
  },
  {
   "cell_type": "code",
   "execution_count": 41,
   "id": "049bd164",
   "metadata": {},
   "outputs": [
    {
     "data": {
      "text/html": [
       "<style>#sk-container-id-2 {color: black;background-color: white;}#sk-container-id-2 pre{padding: 0;}#sk-container-id-2 div.sk-toggleable {background-color: white;}#sk-container-id-2 label.sk-toggleable__label {cursor: pointer;display: block;width: 100%;margin-bottom: 0;padding: 0.3em;box-sizing: border-box;text-align: center;}#sk-container-id-2 label.sk-toggleable__label-arrow:before {content: \"▸\";float: left;margin-right: 0.25em;color: #696969;}#sk-container-id-2 label.sk-toggleable__label-arrow:hover:before {color: black;}#sk-container-id-2 div.sk-estimator:hover label.sk-toggleable__label-arrow:before {color: black;}#sk-container-id-2 div.sk-toggleable__content {max-height: 0;max-width: 0;overflow: hidden;text-align: left;background-color: #f0f8ff;}#sk-container-id-2 div.sk-toggleable__content pre {margin: 0.2em;color: black;border-radius: 0.25em;background-color: #f0f8ff;}#sk-container-id-2 input.sk-toggleable__control:checked~div.sk-toggleable__content {max-height: 200px;max-width: 100%;overflow: auto;}#sk-container-id-2 input.sk-toggleable__control:checked~label.sk-toggleable__label-arrow:before {content: \"▾\";}#sk-container-id-2 div.sk-estimator input.sk-toggleable__control:checked~label.sk-toggleable__label {background-color: #d4ebff;}#sk-container-id-2 div.sk-label input.sk-toggleable__control:checked~label.sk-toggleable__label {background-color: #d4ebff;}#sk-container-id-2 input.sk-hidden--visually {border: 0;clip: rect(1px 1px 1px 1px);clip: rect(1px, 1px, 1px, 1px);height: 1px;margin: -1px;overflow: hidden;padding: 0;position: absolute;width: 1px;}#sk-container-id-2 div.sk-estimator {font-family: monospace;background-color: #f0f8ff;border: 1px dotted black;border-radius: 0.25em;box-sizing: border-box;margin-bottom: 0.5em;}#sk-container-id-2 div.sk-estimator:hover {background-color: #d4ebff;}#sk-container-id-2 div.sk-parallel-item::after {content: \"\";width: 100%;border-bottom: 1px solid gray;flex-grow: 1;}#sk-container-id-2 div.sk-label:hover label.sk-toggleable__label {background-color: #d4ebff;}#sk-container-id-2 div.sk-serial::before {content: \"\";position: absolute;border-left: 1px solid gray;box-sizing: border-box;top: 0;bottom: 0;left: 50%;z-index: 0;}#sk-container-id-2 div.sk-serial {display: flex;flex-direction: column;align-items: center;background-color: white;padding-right: 0.2em;padding-left: 0.2em;position: relative;}#sk-container-id-2 div.sk-item {position: relative;z-index: 1;}#sk-container-id-2 div.sk-parallel {display: flex;align-items: stretch;justify-content: center;background-color: white;position: relative;}#sk-container-id-2 div.sk-item::before, #sk-container-id-2 div.sk-parallel-item::before {content: \"\";position: absolute;border-left: 1px solid gray;box-sizing: border-box;top: 0;bottom: 0;left: 50%;z-index: -1;}#sk-container-id-2 div.sk-parallel-item {display: flex;flex-direction: column;z-index: 1;position: relative;background-color: white;}#sk-container-id-2 div.sk-parallel-item:first-child::after {align-self: flex-end;width: 50%;}#sk-container-id-2 div.sk-parallel-item:last-child::after {align-self: flex-start;width: 50%;}#sk-container-id-2 div.sk-parallel-item:only-child::after {width: 0;}#sk-container-id-2 div.sk-dashed-wrapped {border: 1px dashed gray;margin: 0 0.4em 0.5em 0.4em;box-sizing: border-box;padding-bottom: 0.4em;background-color: white;}#sk-container-id-2 div.sk-label label {font-family: monospace;font-weight: bold;display: inline-block;line-height: 1.2em;}#sk-container-id-2 div.sk-label-container {text-align: center;}#sk-container-id-2 div.sk-container {/* jupyter's `normalize.less` sets `[hidden] { display: none; }` but bootstrap.min.css set `[hidden] { display: none !important; }` so we also need the `!important` here to be able to override the default hidden behavior on the sphinx rendered scikit-learn.org. See: https://github.com/scikit-learn/scikit-learn/issues/21755 */display: inline-block !important;position: relative;}#sk-container-id-2 div.sk-text-repr-fallback {display: none;}</style><div id=\"sk-container-id-2\" class=\"sk-top-container\"><div class=\"sk-text-repr-fallback\"><pre>Pipeline(steps=[(&#x27;data_preprocessing&#x27;,\n",
       "                 ColumnTransformer(transformers=[(&#x27;Ordinal_encoder&#x27;,\n",
       "                                                  Pipeline(steps=[(&#x27;ordinary_encoder&#x27;,\n",
       "                                                                   OrdinalEncoder(categories=[[&#x27;EX&#x27;,\n",
       "                                                                                               &#x27;SE&#x27;,\n",
       "                                                                                               &#x27;MI&#x27;,\n",
       "                                                                                               &#x27;EN&#x27;],\n",
       "                                                                                              [&#x27;L&#x27;,\n",
       "                                                                                               &#x27;M&#x27;,\n",
       "                                                                                               &#x27;S&#x27;]]))]),\n",
       "                                                  [&#x27;experience_level&#x27;,\n",
       "                                                   &#x27;company_size&#x27;]),\n",
       "                                                 (&#x27;cat_encoder&#x27;,\n",
       "                                                  Pipeline(steps=[(&#x27;cat_encoder&#x27;,\n",
       "                                                                   OneHotEncoder(handle_unknown=&#x27;ignore&#x27;))]),\n",
       "                                                  [&#x27;employee_residence&#x27;,\n",
       "                                                   &#x27;employment_type&#x27;,\n",
       "                                                   &#x27;company_location&#x27;,\n",
       "                                                   &#x27;remote_ratio&#x27;,\n",
       "                                                   &#x27;job_title&#x27;])])),\n",
       "                (&#x27;feature_selection_processor&#x27;,\n",
       "                 Pipeline(steps=[(&#x27;feature_selection&#x27;,\n",
       "                                  SelectKBest(k=12,\n",
       "                                              score_func=&lt;function mutual_info_regression at 0x00000195D85CDE10&gt;))])),\n",
       "                (&#x27;classifier&#x27;,\n",
       "                 RandomForestRegressor(max_depth=35, max_leaf_nodes=9,\n",
       "                                       min_samples_leaf=5, n_estimators=40))])</pre><b>In a Jupyter environment, please rerun this cell to show the HTML representation or trust the notebook. <br />On GitHub, the HTML representation is unable to render, please try loading this page with nbviewer.org.</b></div><div class=\"sk-container\" hidden><div class=\"sk-item sk-dashed-wrapped\"><div class=\"sk-label-container\"><div class=\"sk-label sk-toggleable\"><input class=\"sk-toggleable__control sk-hidden--visually\" id=\"sk-estimator-id-6\" type=\"checkbox\" ><label for=\"sk-estimator-id-6\" class=\"sk-toggleable__label sk-toggleable__label-arrow\">Pipeline</label><div class=\"sk-toggleable__content\"><pre>Pipeline(steps=[(&#x27;data_preprocessing&#x27;,\n",
       "                 ColumnTransformer(transformers=[(&#x27;Ordinal_encoder&#x27;,\n",
       "                                                  Pipeline(steps=[(&#x27;ordinary_encoder&#x27;,\n",
       "                                                                   OrdinalEncoder(categories=[[&#x27;EX&#x27;,\n",
       "                                                                                               &#x27;SE&#x27;,\n",
       "                                                                                               &#x27;MI&#x27;,\n",
       "                                                                                               &#x27;EN&#x27;],\n",
       "                                                                                              [&#x27;L&#x27;,\n",
       "                                                                                               &#x27;M&#x27;,\n",
       "                                                                                               &#x27;S&#x27;]]))]),\n",
       "                                                  [&#x27;experience_level&#x27;,\n",
       "                                                   &#x27;company_size&#x27;]),\n",
       "                                                 (&#x27;cat_encoder&#x27;,\n",
       "                                                  Pipeline(steps=[(&#x27;cat_encoder&#x27;,\n",
       "                                                                   OneHotEncoder(handle_unknown=&#x27;ignore&#x27;))]),\n",
       "                                                  [&#x27;employee_residence&#x27;,\n",
       "                                                   &#x27;employment_type&#x27;,\n",
       "                                                   &#x27;company_location&#x27;,\n",
       "                                                   &#x27;remote_ratio&#x27;,\n",
       "                                                   &#x27;job_title&#x27;])])),\n",
       "                (&#x27;feature_selection_processor&#x27;,\n",
       "                 Pipeline(steps=[(&#x27;feature_selection&#x27;,\n",
       "                                  SelectKBest(k=12,\n",
       "                                              score_func=&lt;function mutual_info_regression at 0x00000195D85CDE10&gt;))])),\n",
       "                (&#x27;classifier&#x27;,\n",
       "                 RandomForestRegressor(max_depth=35, max_leaf_nodes=9,\n",
       "                                       min_samples_leaf=5, n_estimators=40))])</pre></div></div></div><div class=\"sk-serial\"><div class=\"sk-item sk-dashed-wrapped\"><div class=\"sk-label-container\"><div class=\"sk-label sk-toggleable\"><input class=\"sk-toggleable__control sk-hidden--visually\" id=\"sk-estimator-id-7\" type=\"checkbox\" ><label for=\"sk-estimator-id-7\" class=\"sk-toggleable__label sk-toggleable__label-arrow\">data_preprocessing: ColumnTransformer</label><div class=\"sk-toggleable__content\"><pre>ColumnTransformer(transformers=[(&#x27;Ordinal_encoder&#x27;,\n",
       "                                 Pipeline(steps=[(&#x27;ordinary_encoder&#x27;,\n",
       "                                                  OrdinalEncoder(categories=[[&#x27;EX&#x27;,\n",
       "                                                                              &#x27;SE&#x27;,\n",
       "                                                                              &#x27;MI&#x27;,\n",
       "                                                                              &#x27;EN&#x27;],\n",
       "                                                                             [&#x27;L&#x27;,\n",
       "                                                                              &#x27;M&#x27;,\n",
       "                                                                              &#x27;S&#x27;]]))]),\n",
       "                                 [&#x27;experience_level&#x27;, &#x27;company_size&#x27;]),\n",
       "                                (&#x27;cat_encoder&#x27;,\n",
       "                                 Pipeline(steps=[(&#x27;cat_encoder&#x27;,\n",
       "                                                  OneHotEncoder(handle_unknown=&#x27;ignore&#x27;))]),\n",
       "                                 [&#x27;employee_residence&#x27;, &#x27;employment_type&#x27;,\n",
       "                                  &#x27;company_location&#x27;, &#x27;remote_ratio&#x27;,\n",
       "                                  &#x27;job_title&#x27;])])</pre></div></div></div><div class=\"sk-parallel\"><div class=\"sk-parallel-item\"><div class=\"sk-item\"><div class=\"sk-label-container\"><div class=\"sk-label sk-toggleable\"><input class=\"sk-toggleable__control sk-hidden--visually\" id=\"sk-estimator-id-8\" type=\"checkbox\" ><label for=\"sk-estimator-id-8\" class=\"sk-toggleable__label sk-toggleable__label-arrow\">Ordinal_encoder</label><div class=\"sk-toggleable__content\"><pre>[&#x27;experience_level&#x27;, &#x27;company_size&#x27;]</pre></div></div></div><div class=\"sk-serial\"><div class=\"sk-item\"><div class=\"sk-serial\"><div class=\"sk-item\"><div class=\"sk-estimator sk-toggleable\"><input class=\"sk-toggleable__control sk-hidden--visually\" id=\"sk-estimator-id-9\" type=\"checkbox\" ><label for=\"sk-estimator-id-9\" class=\"sk-toggleable__label sk-toggleable__label-arrow\">OrdinalEncoder</label><div class=\"sk-toggleable__content\"><pre>OrdinalEncoder(categories=[[&#x27;EX&#x27;, &#x27;SE&#x27;, &#x27;MI&#x27;, &#x27;EN&#x27;], [&#x27;L&#x27;, &#x27;M&#x27;, &#x27;S&#x27;]])</pre></div></div></div></div></div></div></div></div><div class=\"sk-parallel-item\"><div class=\"sk-item\"><div class=\"sk-label-container\"><div class=\"sk-label sk-toggleable\"><input class=\"sk-toggleable__control sk-hidden--visually\" id=\"sk-estimator-id-10\" type=\"checkbox\" ><label for=\"sk-estimator-id-10\" class=\"sk-toggleable__label sk-toggleable__label-arrow\">cat_encoder</label><div class=\"sk-toggleable__content\"><pre>[&#x27;employee_residence&#x27;, &#x27;employment_type&#x27;, &#x27;company_location&#x27;, &#x27;remote_ratio&#x27;, &#x27;job_title&#x27;]</pre></div></div></div><div class=\"sk-serial\"><div class=\"sk-item\"><div class=\"sk-serial\"><div class=\"sk-item\"><div class=\"sk-estimator sk-toggleable\"><input class=\"sk-toggleable__control sk-hidden--visually\" id=\"sk-estimator-id-11\" type=\"checkbox\" ><label for=\"sk-estimator-id-11\" class=\"sk-toggleable__label sk-toggleable__label-arrow\">OneHotEncoder</label><div class=\"sk-toggleable__content\"><pre>OneHotEncoder(handle_unknown=&#x27;ignore&#x27;)</pre></div></div></div></div></div></div></div></div></div></div><div class=\"sk-item\"><div class=\"sk-label-container\"><div class=\"sk-label sk-toggleable\"><input class=\"sk-toggleable__control sk-hidden--visually\" id=\"sk-estimator-id-12\" type=\"checkbox\" ><label for=\"sk-estimator-id-12\" class=\"sk-toggleable__label sk-toggleable__label-arrow\">feature_selection_processor: Pipeline</label><div class=\"sk-toggleable__content\"><pre>Pipeline(steps=[(&#x27;feature_selection&#x27;,\n",
       "                 SelectKBest(k=12,\n",
       "                             score_func=&lt;function mutual_info_regression at 0x00000195D85CDE10&gt;))])</pre></div></div></div><div class=\"sk-serial\"><div class=\"sk-item\"><div class=\"sk-estimator sk-toggleable\"><input class=\"sk-toggleable__control sk-hidden--visually\" id=\"sk-estimator-id-13\" type=\"checkbox\" ><label for=\"sk-estimator-id-13\" class=\"sk-toggleable__label sk-toggleable__label-arrow\">SelectKBest</label><div class=\"sk-toggleable__content\"><pre>SelectKBest(k=12,\n",
       "            score_func=&lt;function mutual_info_regression at 0x00000195D85CDE10&gt;)</pre></div></div></div></div></div><div class=\"sk-item\"><div class=\"sk-estimator sk-toggleable\"><input class=\"sk-toggleable__control sk-hidden--visually\" id=\"sk-estimator-id-14\" type=\"checkbox\" ><label for=\"sk-estimator-id-14\" class=\"sk-toggleable__label sk-toggleable__label-arrow\">RandomForestRegressor</label><div class=\"sk-toggleable__content\"><pre>RandomForestRegressor(max_depth=35, max_leaf_nodes=9, min_samples_leaf=5,\n",
       "                      n_estimators=40)</pre></div></div></div></div></div></div></div>"
      ],
      "text/plain": [
       "Pipeline(steps=[('data_preprocessing',\n",
       "                 ColumnTransformer(transformers=[('Ordinal_encoder',\n",
       "                                                  Pipeline(steps=[('ordinary_encoder',\n",
       "                                                                   OrdinalEncoder(categories=[['EX',\n",
       "                                                                                               'SE',\n",
       "                                                                                               'MI',\n",
       "                                                                                               'EN'],\n",
       "                                                                                              ['L',\n",
       "                                                                                               'M',\n",
       "                                                                                               'S']]))]),\n",
       "                                                  ['experience_level',\n",
       "                                                   'company_size']),\n",
       "                                                 ('cat_encoder',\n",
       "                                                  Pipeline(steps=[('cat_encoder',\n",
       "                                                                   OneHotEncoder(handle_unknown='ignore'))]),\n",
       "                                                  ['employee_residence',\n",
       "                                                   'employment_type',\n",
       "                                                   'company_location',\n",
       "                                                   'remote_ratio',\n",
       "                                                   'job_title'])])),\n",
       "                ('feature_selection_processor',\n",
       "                 Pipeline(steps=[('feature_selection',\n",
       "                                  SelectKBest(k=12,\n",
       "                                              score_func=<function mutual_info_regression at 0x00000195D85CDE10>))])),\n",
       "                ('classifier',\n",
       "                 RandomForestRegressor(max_depth=35, max_leaf_nodes=9,\n",
       "                                       min_samples_leaf=5, n_estimators=40))])"
      ]
     },
     "execution_count": 41,
     "metadata": {},
     "output_type": "execute_result"
    }
   ],
   "source": [
    "feature_selection_processor = Pipeline([\n",
    "    ('feature_selection', SelectKBest(mutual_info_regression, k=12))\n",
    "                                ])\n",
    "\n",
    "pipeline = Pipeline([\n",
    "    ('data_preprocessing', data_preprocessor),\n",
    "    (\"feature_selection_processor\",feature_selection_processor),\n",
    "    ('classifier', RandomForestRegressor(max_depth=35,\n",
    "                                         max_leaf_nodes=9,\n",
    "                                       min_samples_leaf=5, \n",
    "                                         n_estimators=40))\n",
    "                    ])\n",
    "pipeline"
   ]
  },
  {
   "cell_type": "code",
   "execution_count": 42,
   "id": "5f5d8408",
   "metadata": {
    "scrolled": true
   },
   "outputs": [
    {
     "name": "stdout",
     "output_type": "stream",
     "text": [
      "Fitting 5 folds for each of 25 candidates, totalling 125 fits\n",
      "Pipeline(steps=[('data_preprocessing',\n",
      "                 ColumnTransformer(transformers=[('Ordinal_encoder',\n",
      "                                                  Pipeline(steps=[('ordinary_encoder',\n",
      "                                                                   OrdinalEncoder(categories=[['EX',\n",
      "                                                                                               'SE',\n",
      "                                                                                               'MI',\n",
      "                                                                                               'EN'],\n",
      "                                                                                              ['L',\n",
      "                                                                                               'M',\n",
      "                                                                                               'S']]))]),\n",
      "                                                  ['experience_level',\n",
      "                                                   'company_size']),\n",
      "                                                 ('cat_encoder',\n",
      "                                                  Pipeline(steps=[('cat_encoder',\n",
      "                                                                   OneHotEncoder(handle_unknown='ignore'))]),\n",
      "                                                  ['employee_residence',\n",
      "                                                   'employment_type',\n",
      "                                                   'company_location',\n",
      "                                                   'remote_ratio',\n",
      "                                                   'job_title'])])),\n",
      "                ('feature_selection_processor',\n",
      "                 Pipeline(steps=[('feature_selection',\n",
      "                                  SelectKBest(k=12,\n",
      "                                              score_func=<function mutual_info_regression at 0x00000195D85CDE10>))])),\n",
      "                ('classifier',\n",
      "                 RandomForestRegressor(max_depth=36, max_leaf_nodes=9,\n",
      "                                       min_samples_leaf=5, n_estimators=40))])\n"
     ]
    }
   ],
   "source": [
    "from sklearn.model_selection import RandomizedSearchCV\n",
    "\n",
    "k_list = np.arange(9,13)\n",
    "\n",
    "param_grid = {\n",
    "    \"feature_selection_processor__feature_selection__k\": k_list,\n",
    "    \"classifier__n_estimators\": [30,35,40],\n",
    "    \"classifier__max_depth\":[35,36,37],\n",
    "    \"classifier__min_samples_leaf\":[5],\n",
    "    \"classifier__max_leaf_nodes\": [9]\n",
    "}\n",
    "\n",
    "search = RandomizedSearchCV(pipeline, param_grid, cv = 5,scoring='neg_mean_squared_error',verbose = 1,n_iter = 25,n_jobs = -1,)\n",
    "\n",
    "\n",
    "best_model = search.fit(X_train,y_train)\n",
    "print(best_model.best_estimator_)"
   ]
  },
  {
   "cell_type": "code",
   "execution_count": 43,
   "id": "1dc780e4",
   "metadata": {},
   "outputs": [
    {
     "name": "stdout",
     "output_type": "stream",
     "text": [
      "MAE: 30358.624004841826\n",
      "MSE: 1846992292.995549\n",
      "RMSE: 42976.64822895742\n",
      "R2_score:  0.5180798550792871\n"
     ]
    }
   ],
   "source": [
    "predictions = best_model.predict(X_test)\n",
    "\n",
    "print('MAE:', metrics.mean_absolute_error(y_test, predictions))\n",
    "print('MSE:', metrics.mean_squared_error(y_test, predictions))\n",
    "print('RMSE:',np.sqrt(metrics.mean_squared_error(y_test,predictions)))\n",
    "\n",
    "print(\"R2_score: \", metrics.r2_score(y_test, predictions))"
   ]
  },
  {
   "cell_type": "code",
   "execution_count": 44,
   "id": "e0c50161",
   "metadata": {},
   "outputs": [
    {
     "name": "stderr",
     "output_type": "stream",
     "text": [
      "C:\\Users\\ahmet\\AppData\\Local\\Temp\\ipykernel_8084\\2131792714.py:1: UserWarning: \n",
      "\n",
      "`distplot` is a deprecated function and will be removed in seaborn v0.14.0.\n",
      "\n",
      "Please adapt your code to use either `displot` (a figure-level function with\n",
      "similar flexibility) or `histplot` (an axes-level function for histograms).\n",
      "\n",
      "For a guide to updating your code to use the new functions, please see\n",
      "https://gist.github.com/mwaskom/de44147ed2974457ad6372750bbe5751\n",
      "\n",
      "  sns.distplot(y_test-predictions)\n"
     ]
    },
    {
     "data": {
      "text/plain": [
       "<AxesSubplot:xlabel='salary_in_usd', ylabel='Density'>"
      ]
     },
     "execution_count": 44,
     "metadata": {},
     "output_type": "execute_result"
    },
    {
     "data": {
      "image/png": "[encoded data removed]",
      "text/plain": [
       "<Figure size 432x288 with 1 Axes>"
      ]
     },
     "metadata": {
      "needs_background": "light"
     },
     "output_type": "display_data"
    }
   ],
   "source": [
    "sns.distplot(y_test-predictions)"
   ]
  },
  {
   "cell_type": "markdown",
   "id": "49cccfcd",
   "metadata": {},
   "source": [
    "# Save Pipeline"
   ]
  },
  {
   "cell_type": "code",
   "execution_count": 46,
   "id": "56e52a66",
   "metadata": {},
   "outputs": [],
   "source": [
    "### Create a Pickle file using serialization \n",
    "import pickle\n",
    "pickle_out = open(\"DS_salaries_Pipe.pkl\",\"wb\")\n",
    "pickle.dump(best_model, pickle_out)\n",
    "pickle_out.close()"
   ]
  },
  {
   "cell_type": "code",
   "execution_count": 47,
   "id": "2edc0164",
   "metadata": {},
   "outputs": [
    {
     "data": {
      "text/plain": [
       "['DS_salaries_Pipe.joblib']"
      ]
     },
     "execution_count": 47,
     "metadata": {},
     "output_type": "execute_result"
    }
   ],
   "source": [
    "from joblib import dump, load\n",
    "\n",
    "dump(best_model, 'DS_salaries_Pipe.joblib')"
   ]
  },
  {
   "cell_type": "code",
   "execution_count": null,
   "id": "ae4592e0",
   "metadata": {},
   "outputs": [],
   "source": []
  }
 ],
 "metadata": {
  "kernelspec": {
   "display_name": "Python 3.10.1 64-bit",
   "language": "python",
   "name": "python3"
  },
  "language_info": {
   "codemirror_mode": {
    "name": "ipython",
    "version": 3
   },
   "file_extension": ".py",
   "mimetype": "text/x-python",
   "name": "python",
   "nbconvert_exporter": "python",
   "pygments_lexer": "ipython3",
   "version": "3.10.1"
  },
  "vscode": {
   "interpreter": {
    "hash": "26de051ba29f2982a8de78e945f0abaf191376122a1563185a90213a26c5da77"
   }
  }
 },
 "nbformat": 4,
 "nbformat_minor": 5
}
